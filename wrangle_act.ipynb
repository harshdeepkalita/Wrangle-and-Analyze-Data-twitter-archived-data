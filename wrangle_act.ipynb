{
 "cells": [
  {
   "cell_type": "code",
   "execution_count": 103,
   "id": "8fc720fa",
   "metadata": {},
   "outputs": [],
   "source": [
    "import pandas as pd\n",
    "import requests\n",
    "import json\n",
    "import numpy as np\n",
    "import matplotlib.pyplot as plt\n",
    "import seaborn as sns"
   ]
  },
  {
   "cell_type": "markdown",
   "id": "fa3948e9",
   "metadata": {},
   "source": [
    "## Gathering"
   ]
  },
  {
   "cell_type": "code",
   "execution_count": 104,
   "id": "19237355",
   "metadata": {},
   "outputs": [
    {
     "data": {
      "text/html": [
       "<div>\n",
       "<style scoped>\n",
       "    .dataframe tbody tr th:only-of-type {\n",
       "        vertical-align: middle;\n",
       "    }\n",
       "\n",
       "    .dataframe tbody tr th {\n",
       "        vertical-align: top;\n",
       "    }\n",
       "\n",
       "    .dataframe thead th {\n",
       "        text-align: right;\n",
       "    }\n",
       "</style>\n",
       "<table border=\"1\" class=\"dataframe\">\n",
       "  <thead>\n",
       "    <tr style=\"text-align: right;\">\n",
       "      <th></th>\n",
       "      <th>tweet_id</th>\n",
       "      <th>in_reply_to_status_id</th>\n",
       "      <th>in_reply_to_user_id</th>\n",
       "      <th>timestamp</th>\n",
       "      <th>source</th>\n",
       "      <th>text</th>\n",
       "      <th>retweeted_status_id</th>\n",
       "      <th>retweeted_status_user_id</th>\n",
       "      <th>retweeted_status_timestamp</th>\n",
       "      <th>expanded_urls</th>\n",
       "      <th>rating_numerator</th>\n",
       "      <th>rating_denominator</th>\n",
       "      <th>name</th>\n",
       "      <th>doggo</th>\n",
       "      <th>floofer</th>\n",
       "      <th>pupper</th>\n",
       "      <th>puppo</th>\n",
       "    </tr>\n",
       "  </thead>\n",
       "  <tbody>\n",
       "    <tr>\n",
       "      <th>0</th>\n",
       "      <td>892420643555336193</td>\n",
       "      <td>NaN</td>\n",
       "      <td>NaN</td>\n",
       "      <td>2017-08-01 16:23:56 +0000</td>\n",
       "      <td>&lt;a href=\"http://twitter.com/download/iphone\" r...</td>\n",
       "      <td>This is Phineas. He's a mystical boy. Only eve...</td>\n",
       "      <td>NaN</td>\n",
       "      <td>NaN</td>\n",
       "      <td>NaN</td>\n",
       "      <td>https://twitter.com/dog_rates/status/892420643...</td>\n",
       "      <td>13</td>\n",
       "      <td>10</td>\n",
       "      <td>Phineas</td>\n",
       "      <td>None</td>\n",
       "      <td>None</td>\n",
       "      <td>None</td>\n",
       "      <td>None</td>\n",
       "    </tr>\n",
       "    <tr>\n",
       "      <th>1</th>\n",
       "      <td>892177421306343426</td>\n",
       "      <td>NaN</td>\n",
       "      <td>NaN</td>\n",
       "      <td>2017-08-01 00:17:27 +0000</td>\n",
       "      <td>&lt;a href=\"http://twitter.com/download/iphone\" r...</td>\n",
       "      <td>This is Tilly. She's just checking pup on you....</td>\n",
       "      <td>NaN</td>\n",
       "      <td>NaN</td>\n",
       "      <td>NaN</td>\n",
       "      <td>https://twitter.com/dog_rates/status/892177421...</td>\n",
       "      <td>13</td>\n",
       "      <td>10</td>\n",
       "      <td>Tilly</td>\n",
       "      <td>None</td>\n",
       "      <td>None</td>\n",
       "      <td>None</td>\n",
       "      <td>None</td>\n",
       "    </tr>\n",
       "    <tr>\n",
       "      <th>2</th>\n",
       "      <td>891815181378084864</td>\n",
       "      <td>NaN</td>\n",
       "      <td>NaN</td>\n",
       "      <td>2017-07-31 00:18:03 +0000</td>\n",
       "      <td>&lt;a href=\"http://twitter.com/download/iphone\" r...</td>\n",
       "      <td>This is Archie. He is a rare Norwegian Pouncin...</td>\n",
       "      <td>NaN</td>\n",
       "      <td>NaN</td>\n",
       "      <td>NaN</td>\n",
       "      <td>https://twitter.com/dog_rates/status/891815181...</td>\n",
       "      <td>12</td>\n",
       "      <td>10</td>\n",
       "      <td>Archie</td>\n",
       "      <td>None</td>\n",
       "      <td>None</td>\n",
       "      <td>None</td>\n",
       "      <td>None</td>\n",
       "    </tr>\n",
       "  </tbody>\n",
       "</table>\n",
       "</div>"
      ],
      "text/plain": [
       "             tweet_id  in_reply_to_status_id  in_reply_to_user_id  \\\n",
       "0  892420643555336193                    NaN                  NaN   \n",
       "1  892177421306343426                    NaN                  NaN   \n",
       "2  891815181378084864                    NaN                  NaN   \n",
       "\n",
       "                   timestamp  \\\n",
       "0  2017-08-01 16:23:56 +0000   \n",
       "1  2017-08-01 00:17:27 +0000   \n",
       "2  2017-07-31 00:18:03 +0000   \n",
       "\n",
       "                                              source  \\\n",
       "0  <a href=\"http://twitter.com/download/iphone\" r...   \n",
       "1  <a href=\"http://twitter.com/download/iphone\" r...   \n",
       "2  <a href=\"http://twitter.com/download/iphone\" r...   \n",
       "\n",
       "                                                text  retweeted_status_id  \\\n",
       "0  This is Phineas. He's a mystical boy. Only eve...                  NaN   \n",
       "1  This is Tilly. She's just checking pup on you....                  NaN   \n",
       "2  This is Archie. He is a rare Norwegian Pouncin...                  NaN   \n",
       "\n",
       "   retweeted_status_user_id retweeted_status_timestamp  \\\n",
       "0                       NaN                        NaN   \n",
       "1                       NaN                        NaN   \n",
       "2                       NaN                        NaN   \n",
       "\n",
       "                                       expanded_urls  rating_numerator  \\\n",
       "0  https://twitter.com/dog_rates/status/892420643...                13   \n",
       "1  https://twitter.com/dog_rates/status/892177421...                13   \n",
       "2  https://twitter.com/dog_rates/status/891815181...                12   \n",
       "\n",
       "   rating_denominator     name doggo floofer pupper puppo  \n",
       "0                  10  Phineas  None    None   None  None  \n",
       "1                  10    Tilly  None    None   None  None  \n",
       "2                  10   Archie  None    None   None  None  "
      ]
     },
     "execution_count": 104,
     "metadata": {},
     "output_type": "execute_result"
    }
   ],
   "source": [
    "df_archived = pd.read_csv('twitter-archive-enhanced.csv')\n",
    "df_archived.head(3)"
   ]
  },
  {
   "cell_type": "code",
   "execution_count": 105,
   "id": "79b84e32",
   "metadata": {},
   "outputs": [
    {
     "data": {
      "text/plain": [
       "200"
      ]
     },
     "execution_count": 105,
     "metadata": {},
     "output_type": "execute_result"
    }
   ],
   "source": [
    "url = \"https://d17h27t6h515a5.cloudfront.net/topher/2017/August/599fd2ad_image-predictions/image-predictions.tsv\"\n",
    "response = requests.get(url)\n",
    "response.status_code"
   ]
  },
  {
   "cell_type": "code",
   "execution_count": 106,
   "id": "08ed7f2b",
   "metadata": {},
   "outputs": [],
   "source": [
    "with open(url.split('/')[-1] , mode = 'wb') as file:\n",
    "    file.write(response.content)"
   ]
  },
  {
   "cell_type": "code",
   "execution_count": 107,
   "id": "fdc48dda",
   "metadata": {},
   "outputs": [
    {
     "data": {
      "text/html": [
       "<div>\n",
       "<style scoped>\n",
       "    .dataframe tbody tr th:only-of-type {\n",
       "        vertical-align: middle;\n",
       "    }\n",
       "\n",
       "    .dataframe tbody tr th {\n",
       "        vertical-align: top;\n",
       "    }\n",
       "\n",
       "    .dataframe thead th {\n",
       "        text-align: right;\n",
       "    }\n",
       "</style>\n",
       "<table border=\"1\" class=\"dataframe\">\n",
       "  <thead>\n",
       "    <tr style=\"text-align: right;\">\n",
       "      <th></th>\n",
       "      <th>tweet_id</th>\n",
       "      <th>jpg_url</th>\n",
       "      <th>img_num</th>\n",
       "      <th>p1</th>\n",
       "      <th>p1_conf</th>\n",
       "      <th>p1_dog</th>\n",
       "      <th>p2</th>\n",
       "      <th>p2_conf</th>\n",
       "      <th>p2_dog</th>\n",
       "      <th>p3</th>\n",
       "      <th>p3_conf</th>\n",
       "      <th>p3_dog</th>\n",
       "    </tr>\n",
       "  </thead>\n",
       "  <tbody>\n",
       "    <tr>\n",
       "      <th>0</th>\n",
       "      <td>666020888022790149</td>\n",
       "      <td>https://pbs.twimg.com/media/CT4udn0WwAA0aMy.jpg</td>\n",
       "      <td>1</td>\n",
       "      <td>Welsh_springer_spaniel</td>\n",
       "      <td>0.465074</td>\n",
       "      <td>True</td>\n",
       "      <td>collie</td>\n",
       "      <td>0.156665</td>\n",
       "      <td>True</td>\n",
       "      <td>Shetland_sheepdog</td>\n",
       "      <td>0.061428</td>\n",
       "      <td>True</td>\n",
       "    </tr>\n",
       "    <tr>\n",
       "      <th>1</th>\n",
       "      <td>666029285002620928</td>\n",
       "      <td>https://pbs.twimg.com/media/CT42GRgUYAA5iDo.jpg</td>\n",
       "      <td>1</td>\n",
       "      <td>redbone</td>\n",
       "      <td>0.506826</td>\n",
       "      <td>True</td>\n",
       "      <td>miniature_pinscher</td>\n",
       "      <td>0.074192</td>\n",
       "      <td>True</td>\n",
       "      <td>Rhodesian_ridgeback</td>\n",
       "      <td>0.072010</td>\n",
       "      <td>True</td>\n",
       "    </tr>\n",
       "    <tr>\n",
       "      <th>2</th>\n",
       "      <td>666033412701032449</td>\n",
       "      <td>https://pbs.twimg.com/media/CT4521TWwAEvMyu.jpg</td>\n",
       "      <td>1</td>\n",
       "      <td>German_shepherd</td>\n",
       "      <td>0.596461</td>\n",
       "      <td>True</td>\n",
       "      <td>malinois</td>\n",
       "      <td>0.138584</td>\n",
       "      <td>True</td>\n",
       "      <td>bloodhound</td>\n",
       "      <td>0.116197</td>\n",
       "      <td>True</td>\n",
       "    </tr>\n",
       "  </tbody>\n",
       "</table>\n",
       "</div>"
      ],
      "text/plain": [
       "             tweet_id                                          jpg_url  \\\n",
       "0  666020888022790149  https://pbs.twimg.com/media/CT4udn0WwAA0aMy.jpg   \n",
       "1  666029285002620928  https://pbs.twimg.com/media/CT42GRgUYAA5iDo.jpg   \n",
       "2  666033412701032449  https://pbs.twimg.com/media/CT4521TWwAEvMyu.jpg   \n",
       "\n",
       "   img_num                      p1   p1_conf  p1_dog                  p2  \\\n",
       "0        1  Welsh_springer_spaniel  0.465074    True              collie   \n",
       "1        1                 redbone  0.506826    True  miniature_pinscher   \n",
       "2        1         German_shepherd  0.596461    True            malinois   \n",
       "\n",
       "    p2_conf  p2_dog                   p3   p3_conf  p3_dog  \n",
       "0  0.156665    True    Shetland_sheepdog  0.061428    True  \n",
       "1  0.074192    True  Rhodesian_ridgeback  0.072010    True  \n",
       "2  0.138584    True           bloodhound  0.116197    True  "
      ]
     },
     "execution_count": 107,
     "metadata": {},
     "output_type": "execute_result"
    }
   ],
   "source": [
    "image_pred = pd.read_csv('image-predictions.tsv',sep='\\t')\n",
    "image_pred.head(3)"
   ]
  },
  {
   "cell_type": "code",
   "execution_count": 108,
   "id": "2e3992df",
   "metadata": {},
   "outputs": [],
   "source": [
    "d = []\n",
    "with open('tweet-json.txt', encoding='utf-8') as file:\n",
    "    for i in file:\n",
    "        data = json.loads(i)\n",
    "        tweet_ID = data['id_str']\n",
    "        favorite_count = data['favorite_count']\n",
    "        retweet_count = data['retweet_count']\n",
    "        d.append({'tweet_id': tweet_ID,'favorite_count': favorite_count,\n",
    "                     'retweet_count': retweet_count})\n",
    "        \n"
   ]
  },
  {
   "cell_type": "code",
   "execution_count": 109,
   "id": "87a89a4b",
   "metadata": {},
   "outputs": [
    {
     "data": {
      "text/plain": [
       "[{'tweet_id': '892420643555336193',\n",
       "  'favorite_count': 39467,\n",
       "  'retweet_count': 8853},\n",
       " {'tweet_id': '892177421306343426',\n",
       "  'favorite_count': 33819,\n",
       "  'retweet_count': 6514},\n",
       " {'tweet_id': '891815181378084864',\n",
       "  'favorite_count': 25461,\n",
       "  'retweet_count': 4328},\n",
       " {'tweet_id': '891689557279858688',\n",
       "  'favorite_count': 42908,\n",
       "  'retweet_count': 8964}]"
      ]
     },
     "execution_count": 109,
     "metadata": {},
     "output_type": "execute_result"
    }
   ],
   "source": [
    "d[:4]"
   ]
  },
  {
   "cell_type": "code",
   "execution_count": 110,
   "id": "a7f62fcd",
   "metadata": {},
   "outputs": [],
   "source": [
    "twitter_js = pd.DataFrame(d, columns = ['tweet_id', 'favorite_count','retweet_count'])"
   ]
  },
  {
   "cell_type": "code",
   "execution_count": 111,
   "id": "4e583e69",
   "metadata": {},
   "outputs": [],
   "source": [
    "twitter_js.to_csv('tweet_json.txt', index=False)\n",
    "df_json = pd.read_csv('tweet_json.txt')"
   ]
  },
  {
   "cell_type": "code",
   "execution_count": 112,
   "id": "613b7a12",
   "metadata": {},
   "outputs": [
    {
     "data": {
      "text/html": [
       "<div>\n",
       "<style scoped>\n",
       "    .dataframe tbody tr th:only-of-type {\n",
       "        vertical-align: middle;\n",
       "    }\n",
       "\n",
       "    .dataframe tbody tr th {\n",
       "        vertical-align: top;\n",
       "    }\n",
       "\n",
       "    .dataframe thead th {\n",
       "        text-align: right;\n",
       "    }\n",
       "</style>\n",
       "<table border=\"1\" class=\"dataframe\">\n",
       "  <thead>\n",
       "    <tr style=\"text-align: right;\">\n",
       "      <th></th>\n",
       "      <th>tweet_id</th>\n",
       "      <th>favorite_count</th>\n",
       "      <th>retweet_count</th>\n",
       "    </tr>\n",
       "  </thead>\n",
       "  <tbody>\n",
       "    <tr>\n",
       "      <th>0</th>\n",
       "      <td>892420643555336193</td>\n",
       "      <td>39467</td>\n",
       "      <td>8853</td>\n",
       "    </tr>\n",
       "    <tr>\n",
       "      <th>1</th>\n",
       "      <td>892177421306343426</td>\n",
       "      <td>33819</td>\n",
       "      <td>6514</td>\n",
       "    </tr>\n",
       "    <tr>\n",
       "      <th>2</th>\n",
       "      <td>891815181378084864</td>\n",
       "      <td>25461</td>\n",
       "      <td>4328</td>\n",
       "    </tr>\n",
       "    <tr>\n",
       "      <th>3</th>\n",
       "      <td>891689557279858688</td>\n",
       "      <td>42908</td>\n",
       "      <td>8964</td>\n",
       "    </tr>\n",
       "    <tr>\n",
       "      <th>4</th>\n",
       "      <td>891327558926688256</td>\n",
       "      <td>41048</td>\n",
       "      <td>9774</td>\n",
       "    </tr>\n",
       "  </tbody>\n",
       "</table>\n",
       "</div>"
      ],
      "text/plain": [
       "             tweet_id  favorite_count  retweet_count\n",
       "0  892420643555336193           39467           8853\n",
       "1  892177421306343426           33819           6514\n",
       "2  891815181378084864           25461           4328\n",
       "3  891689557279858688           42908           8964\n",
       "4  891327558926688256           41048           9774"
      ]
     },
     "execution_count": 112,
     "metadata": {},
     "output_type": "execute_result"
    }
   ],
   "source": [
    "df_json.head()"
   ]
  },
  {
   "cell_type": "markdown",
   "id": "ed0e6e87",
   "metadata": {},
   "source": [
    "## Assesing Data"
   ]
  },
  {
   "cell_type": "markdown",
   "id": "fe8278c0",
   "metadata": {},
   "source": [
    "#### Visual Assessment"
   ]
  },
  {
   "cell_type": "code",
   "execution_count": 113,
   "id": "2b266148",
   "metadata": {},
   "outputs": [
    {
     "data": {
      "text/html": [
       "<div>\n",
       "<style scoped>\n",
       "    .dataframe tbody tr th:only-of-type {\n",
       "        vertical-align: middle;\n",
       "    }\n",
       "\n",
       "    .dataframe tbody tr th {\n",
       "        vertical-align: top;\n",
       "    }\n",
       "\n",
       "    .dataframe thead th {\n",
       "        text-align: right;\n",
       "    }\n",
       "</style>\n",
       "<table border=\"1\" class=\"dataframe\">\n",
       "  <thead>\n",
       "    <tr style=\"text-align: right;\">\n",
       "      <th></th>\n",
       "      <th>tweet_id</th>\n",
       "      <th>in_reply_to_status_id</th>\n",
       "      <th>in_reply_to_user_id</th>\n",
       "      <th>timestamp</th>\n",
       "      <th>source</th>\n",
       "      <th>text</th>\n",
       "      <th>retweeted_status_id</th>\n",
       "      <th>retweeted_status_user_id</th>\n",
       "      <th>retweeted_status_timestamp</th>\n",
       "      <th>expanded_urls</th>\n",
       "      <th>rating_numerator</th>\n",
       "      <th>rating_denominator</th>\n",
       "      <th>name</th>\n",
       "      <th>doggo</th>\n",
       "      <th>floofer</th>\n",
       "      <th>pupper</th>\n",
       "      <th>puppo</th>\n",
       "    </tr>\n",
       "  </thead>\n",
       "  <tbody>\n",
       "    <tr>\n",
       "      <th>366</th>\n",
       "      <td>828801551087042563</td>\n",
       "      <td>NaN</td>\n",
       "      <td>NaN</td>\n",
       "      <td>2017-02-07 03:04:22 +0000</td>\n",
       "      <td>&lt;a href=\"http://twitter.com/download/iphone\" r...</td>\n",
       "      <td>RT @dog_rates: This is Gus. He likes to be clo...</td>\n",
       "      <td>8.102541e+17</td>\n",
       "      <td>4.196984e+09</td>\n",
       "      <td>2016-12-17 22:43:27 +0000</td>\n",
       "      <td>https://twitter.com/dog_rates/status/810254108...</td>\n",
       "      <td>12</td>\n",
       "      <td>10</td>\n",
       "      <td>Gus</td>\n",
       "      <td>None</td>\n",
       "      <td>None</td>\n",
       "      <td>None</td>\n",
       "      <td>None</td>\n",
       "    </tr>\n",
       "    <tr>\n",
       "      <th>1954</th>\n",
       "      <td>673656262056419329</td>\n",
       "      <td>NaN</td>\n",
       "      <td>NaN</td>\n",
       "      <td>2015-12-07 00:12:23 +0000</td>\n",
       "      <td>&lt;a href=\"http://twitter.com/download/iphone\" r...</td>\n",
       "      <td>This is Albert AKA King Banana Peel. He's a ki...</td>\n",
       "      <td>NaN</td>\n",
       "      <td>NaN</td>\n",
       "      <td>NaN</td>\n",
       "      <td>https://twitter.com/dog_rates/status/673656262...</td>\n",
       "      <td>10</td>\n",
       "      <td>10</td>\n",
       "      <td>Albert</td>\n",
       "      <td>None</td>\n",
       "      <td>None</td>\n",
       "      <td>pupper</td>\n",
       "      <td>None</td>\n",
       "    </tr>\n",
       "    <tr>\n",
       "      <th>908</th>\n",
       "      <td>757729163776290825</td>\n",
       "      <td>NaN</td>\n",
       "      <td>NaN</td>\n",
       "      <td>2016-07-26 00:08:05 +0000</td>\n",
       "      <td>&lt;a href=\"http://twitter.com/download/iphone\" r...</td>\n",
       "      <td>RT @dog_rates: This is Chompsky. He lives up t...</td>\n",
       "      <td>6.790626e+17</td>\n",
       "      <td>4.196984e+09</td>\n",
       "      <td>2015-12-21 22:15:18 +0000</td>\n",
       "      <td>https://twitter.com/dog_rates/status/679062614...</td>\n",
       "      <td>11</td>\n",
       "      <td>10</td>\n",
       "      <td>Chompsky</td>\n",
       "      <td>None</td>\n",
       "      <td>None</td>\n",
       "      <td>None</td>\n",
       "      <td>None</td>\n",
       "    </tr>\n",
       "    <tr>\n",
       "      <th>1143</th>\n",
       "      <td>727314416056803329</td>\n",
       "      <td>NaN</td>\n",
       "      <td>NaN</td>\n",
       "      <td>2016-05-03 01:50:44 +0000</td>\n",
       "      <td>&lt;a href=\"http://twitter.com/download/iphone\" r...</td>\n",
       "      <td>This pupper was about to explain where that di...</td>\n",
       "      <td>NaN</td>\n",
       "      <td>NaN</td>\n",
       "      <td>NaN</td>\n",
       "      <td>https://twitter.com/dog_rates/status/727314416...</td>\n",
       "      <td>11</td>\n",
       "      <td>10</td>\n",
       "      <td>None</td>\n",
       "      <td>None</td>\n",
       "      <td>None</td>\n",
       "      <td>pupper</td>\n",
       "      <td>None</td>\n",
       "    </tr>\n",
       "    <tr>\n",
       "      <th>1590</th>\n",
       "      <td>686618349602762752</td>\n",
       "      <td>NaN</td>\n",
       "      <td>NaN</td>\n",
       "      <td>2016-01-11 18:39:05 +0000</td>\n",
       "      <td>&lt;a href=\"http://twitter.com/download/iphone\" r...</td>\n",
       "      <td>This is Olivia. She just saw an adult wearing ...</td>\n",
       "      <td>NaN</td>\n",
       "      <td>NaN</td>\n",
       "      <td>NaN</td>\n",
       "      <td>https://twitter.com/dog_rates/status/686618349...</td>\n",
       "      <td>11</td>\n",
       "      <td>10</td>\n",
       "      <td>Olivia</td>\n",
       "      <td>None</td>\n",
       "      <td>None</td>\n",
       "      <td>pupper</td>\n",
       "      <td>None</td>\n",
       "    </tr>\n",
       "    <tr>\n",
       "      <th>1765</th>\n",
       "      <td>678410210315247616</td>\n",
       "      <td>NaN</td>\n",
       "      <td>NaN</td>\n",
       "      <td>2015-12-20 03:02:53 +0000</td>\n",
       "      <td>&lt;a href=\"http://twitter.com/download/iphone\" r...</td>\n",
       "      <td>Say hello to Jerome. He can shoot french fries...</td>\n",
       "      <td>NaN</td>\n",
       "      <td>NaN</td>\n",
       "      <td>NaN</td>\n",
       "      <td>https://twitter.com/dog_rates/status/678410210...</td>\n",
       "      <td>10</td>\n",
       "      <td>10</td>\n",
       "      <td>Jerome</td>\n",
       "      <td>None</td>\n",
       "      <td>None</td>\n",
       "      <td>None</td>\n",
       "      <td>None</td>\n",
       "    </tr>\n",
       "  </tbody>\n",
       "</table>\n",
       "</div>"
      ],
      "text/plain": [
       "                tweet_id  in_reply_to_status_id  in_reply_to_user_id  \\\n",
       "366   828801551087042563                    NaN                  NaN   \n",
       "1954  673656262056419329                    NaN                  NaN   \n",
       "908   757729163776290825                    NaN                  NaN   \n",
       "1143  727314416056803329                    NaN                  NaN   \n",
       "1590  686618349602762752                    NaN                  NaN   \n",
       "1765  678410210315247616                    NaN                  NaN   \n",
       "\n",
       "                      timestamp  \\\n",
       "366   2017-02-07 03:04:22 +0000   \n",
       "1954  2015-12-07 00:12:23 +0000   \n",
       "908   2016-07-26 00:08:05 +0000   \n",
       "1143  2016-05-03 01:50:44 +0000   \n",
       "1590  2016-01-11 18:39:05 +0000   \n",
       "1765  2015-12-20 03:02:53 +0000   \n",
       "\n",
       "                                                 source  \\\n",
       "366   <a href=\"http://twitter.com/download/iphone\" r...   \n",
       "1954  <a href=\"http://twitter.com/download/iphone\" r...   \n",
       "908   <a href=\"http://twitter.com/download/iphone\" r...   \n",
       "1143  <a href=\"http://twitter.com/download/iphone\" r...   \n",
       "1590  <a href=\"http://twitter.com/download/iphone\" r...   \n",
       "1765  <a href=\"http://twitter.com/download/iphone\" r...   \n",
       "\n",
       "                                                   text  retweeted_status_id  \\\n",
       "366   RT @dog_rates: This is Gus. He likes to be clo...         8.102541e+17   \n",
       "1954  This is Albert AKA King Banana Peel. He's a ki...                  NaN   \n",
       "908   RT @dog_rates: This is Chompsky. He lives up t...         6.790626e+17   \n",
       "1143  This pupper was about to explain where that di...                  NaN   \n",
       "1590  This is Olivia. She just saw an adult wearing ...                  NaN   \n",
       "1765  Say hello to Jerome. He can shoot french fries...                  NaN   \n",
       "\n",
       "      retweeted_status_user_id retweeted_status_timestamp  \\\n",
       "366               4.196984e+09  2016-12-17 22:43:27 +0000   \n",
       "1954                       NaN                        NaN   \n",
       "908               4.196984e+09  2015-12-21 22:15:18 +0000   \n",
       "1143                       NaN                        NaN   \n",
       "1590                       NaN                        NaN   \n",
       "1765                       NaN                        NaN   \n",
       "\n",
       "                                          expanded_urls  rating_numerator  \\\n",
       "366   https://twitter.com/dog_rates/status/810254108...                12   \n",
       "1954  https://twitter.com/dog_rates/status/673656262...                10   \n",
       "908   https://twitter.com/dog_rates/status/679062614...                11   \n",
       "1143  https://twitter.com/dog_rates/status/727314416...                11   \n",
       "1590  https://twitter.com/dog_rates/status/686618349...                11   \n",
       "1765  https://twitter.com/dog_rates/status/678410210...                10   \n",
       "\n",
       "      rating_denominator      name doggo floofer  pupper puppo  \n",
       "366                   10       Gus  None    None    None  None  \n",
       "1954                  10    Albert  None    None  pupper  None  \n",
       "908                   10  Chompsky  None    None    None  None  \n",
       "1143                  10      None  None    None  pupper  None  \n",
       "1590                  10    Olivia  None    None  pupper  None  \n",
       "1765                  10    Jerome  None    None    None  None  "
      ]
     },
     "execution_count": 113,
     "metadata": {},
     "output_type": "execute_result"
    }
   ],
   "source": [
    "df_archived.sample(6)"
   ]
  },
  {
   "cell_type": "code",
   "execution_count": 114,
   "id": "e7922a97",
   "metadata": {},
   "outputs": [
    {
     "data": {
      "text/html": [
       "<div>\n",
       "<style scoped>\n",
       "    .dataframe tbody tr th:only-of-type {\n",
       "        vertical-align: middle;\n",
       "    }\n",
       "\n",
       "    .dataframe tbody tr th {\n",
       "        vertical-align: top;\n",
       "    }\n",
       "\n",
       "    .dataframe thead th {\n",
       "        text-align: right;\n",
       "    }\n",
       "</style>\n",
       "<table border=\"1\" class=\"dataframe\">\n",
       "  <thead>\n",
       "    <tr style=\"text-align: right;\">\n",
       "      <th></th>\n",
       "      <th>tweet_id</th>\n",
       "      <th>jpg_url</th>\n",
       "      <th>img_num</th>\n",
       "      <th>p1</th>\n",
       "      <th>p1_conf</th>\n",
       "      <th>p1_dog</th>\n",
       "      <th>p2</th>\n",
       "      <th>p2_conf</th>\n",
       "      <th>p2_dog</th>\n",
       "      <th>p3</th>\n",
       "      <th>p3_conf</th>\n",
       "      <th>p3_dog</th>\n",
       "    </tr>\n",
       "  </thead>\n",
       "  <tbody>\n",
       "    <tr>\n",
       "      <th>2061</th>\n",
       "      <td>889638837579907072</td>\n",
       "      <td>https://pbs.twimg.com/media/DFihzFfXsAYGDPR.jpg</td>\n",
       "      <td>1</td>\n",
       "      <td>French_bulldog</td>\n",
       "      <td>0.991650</td>\n",
       "      <td>True</td>\n",
       "      <td>boxer</td>\n",
       "      <td>0.002129</td>\n",
       "      <td>True</td>\n",
       "      <td>Staffordshire_bullterrier</td>\n",
       "      <td>0.001498</td>\n",
       "      <td>True</td>\n",
       "    </tr>\n",
       "    <tr>\n",
       "      <th>1414</th>\n",
       "      <td>771014301343748096</td>\n",
       "      <td>https://pbs.twimg.com/media/CrMxZzgWIAQUxzx.jpg</td>\n",
       "      <td>1</td>\n",
       "      <td>meerkat</td>\n",
       "      <td>0.202335</td>\n",
       "      <td>False</td>\n",
       "      <td>doormat</td>\n",
       "      <td>0.111790</td>\n",
       "      <td>False</td>\n",
       "      <td>macaque</td>\n",
       "      <td>0.088925</td>\n",
       "      <td>False</td>\n",
       "    </tr>\n",
       "    <tr>\n",
       "      <th>1280</th>\n",
       "      <td>750132105863102464</td>\n",
       "      <td>https://pbs.twimg.com/media/CmkBKuwWgAAamOI.jpg</td>\n",
       "      <td>1</td>\n",
       "      <td>toy_poodle</td>\n",
       "      <td>0.478018</td>\n",
       "      <td>True</td>\n",
       "      <td>miniature_poodle</td>\n",
       "      <td>0.207458</td>\n",
       "      <td>True</td>\n",
       "      <td>croquet_ball</td>\n",
       "      <td>0.085879</td>\n",
       "      <td>False</td>\n",
       "    </tr>\n",
       "    <tr>\n",
       "      <th>411</th>\n",
       "      <td>673906403526995968</td>\n",
       "      <td>https://pbs.twimg.com/media/CVoySqoWUAAWb7N.jpg</td>\n",
       "      <td>1</td>\n",
       "      <td>toilet_seat</td>\n",
       "      <td>0.683319</td>\n",
       "      <td>False</td>\n",
       "      <td>soft-coated_wheaten_terrier</td>\n",
       "      <td>0.048928</td>\n",
       "      <td>True</td>\n",
       "      <td>Siberian_husky</td>\n",
       "      <td>0.030386</td>\n",
       "      <td>True</td>\n",
       "    </tr>\n",
       "    <tr>\n",
       "      <th>1832</th>\n",
       "      <td>836677758902222849</td>\n",
       "      <td>https://pbs.twimg.com/media/C5x57-TWUAEawQh.jpg</td>\n",
       "      <td>2</td>\n",
       "      <td>leopard</td>\n",
       "      <td>0.797410</td>\n",
       "      <td>False</td>\n",
       "      <td>jaguar</td>\n",
       "      <td>0.095487</td>\n",
       "      <td>False</td>\n",
       "      <td>snow_leopard</td>\n",
       "      <td>0.079694</td>\n",
       "      <td>False</td>\n",
       "    </tr>\n",
       "    <tr>\n",
       "      <th>1284</th>\n",
       "      <td>750506206503038976</td>\n",
       "      <td>https://pbs.twimg.com/media/CmpVaOZWIAAp3z6.jpg</td>\n",
       "      <td>1</td>\n",
       "      <td>American_black_bear</td>\n",
       "      <td>0.219166</td>\n",
       "      <td>False</td>\n",
       "      <td>lesser_panda</td>\n",
       "      <td>0.214715</td>\n",
       "      <td>False</td>\n",
       "      <td>titi</td>\n",
       "      <td>0.091685</td>\n",
       "      <td>False</td>\n",
       "    </tr>\n",
       "    <tr>\n",
       "      <th>1895</th>\n",
       "      <td>850019790995546112</td>\n",
       "      <td>https://pbs.twimg.com/media/C8vgfTsXgAA561h.jpg</td>\n",
       "      <td>3</td>\n",
       "      <td>Shetland_sheepdog</td>\n",
       "      <td>0.759907</td>\n",
       "      <td>True</td>\n",
       "      <td>collie</td>\n",
       "      <td>0.107405</td>\n",
       "      <td>True</td>\n",
       "      <td>Pembroke</td>\n",
       "      <td>0.052335</td>\n",
       "      <td>True</td>\n",
       "    </tr>\n",
       "    <tr>\n",
       "      <th>244</th>\n",
       "      <td>670465786746662913</td>\n",
       "      <td>https://pbs.twimg.com/media/CU35E7VWEAAKYBy.jpg</td>\n",
       "      <td>1</td>\n",
       "      <td>axolotl</td>\n",
       "      <td>0.611558</td>\n",
       "      <td>False</td>\n",
       "      <td>tailed_frog</td>\n",
       "      <td>0.186484</td>\n",
       "      <td>False</td>\n",
       "      <td>common_newt</td>\n",
       "      <td>0.078694</td>\n",
       "      <td>False</td>\n",
       "    </tr>\n",
       "    <tr>\n",
       "      <th>1845</th>\n",
       "      <td>838921590096166913</td>\n",
       "      <td>https://pbs.twimg.com/media/C6Ryuf7UoAAFX4a.jpg</td>\n",
       "      <td>1</td>\n",
       "      <td>Border_terrier</td>\n",
       "      <td>0.664538</td>\n",
       "      <td>True</td>\n",
       "      <td>Brabancon_griffon</td>\n",
       "      <td>0.170451</td>\n",
       "      <td>True</td>\n",
       "      <td>Yorkshire_terrier</td>\n",
       "      <td>0.087824</td>\n",
       "      <td>True</td>\n",
       "    </tr>\n",
       "    <tr>\n",
       "      <th>1106</th>\n",
       "      <td>723179728551723008</td>\n",
       "      <td>https://pbs.twimg.com/media/CglAHjAUgAAfxcq.jpg</td>\n",
       "      <td>1</td>\n",
       "      <td>tennis_ball</td>\n",
       "      <td>0.176495</td>\n",
       "      <td>False</td>\n",
       "      <td>badger</td>\n",
       "      <td>0.059905</td>\n",
       "      <td>False</td>\n",
       "      <td>Norwegian_elkhound</td>\n",
       "      <td>0.056850</td>\n",
       "      <td>True</td>\n",
       "    </tr>\n",
       "  </tbody>\n",
       "</table>\n",
       "</div>"
      ],
      "text/plain": [
       "                tweet_id                                          jpg_url  \\\n",
       "2061  889638837579907072  https://pbs.twimg.com/media/DFihzFfXsAYGDPR.jpg   \n",
       "1414  771014301343748096  https://pbs.twimg.com/media/CrMxZzgWIAQUxzx.jpg   \n",
       "1280  750132105863102464  https://pbs.twimg.com/media/CmkBKuwWgAAamOI.jpg   \n",
       "411   673906403526995968  https://pbs.twimg.com/media/CVoySqoWUAAWb7N.jpg   \n",
       "1832  836677758902222849  https://pbs.twimg.com/media/C5x57-TWUAEawQh.jpg   \n",
       "1284  750506206503038976  https://pbs.twimg.com/media/CmpVaOZWIAAp3z6.jpg   \n",
       "1895  850019790995546112  https://pbs.twimg.com/media/C8vgfTsXgAA561h.jpg   \n",
       "244   670465786746662913  https://pbs.twimg.com/media/CU35E7VWEAAKYBy.jpg   \n",
       "1845  838921590096166913  https://pbs.twimg.com/media/C6Ryuf7UoAAFX4a.jpg   \n",
       "1106  723179728551723008  https://pbs.twimg.com/media/CglAHjAUgAAfxcq.jpg   \n",
       "\n",
       "      img_num                   p1   p1_conf  p1_dog  \\\n",
       "2061        1       French_bulldog  0.991650    True   \n",
       "1414        1              meerkat  0.202335   False   \n",
       "1280        1           toy_poodle  0.478018    True   \n",
       "411         1          toilet_seat  0.683319   False   \n",
       "1832        2              leopard  0.797410   False   \n",
       "1284        1  American_black_bear  0.219166   False   \n",
       "1895        3    Shetland_sheepdog  0.759907    True   \n",
       "244         1              axolotl  0.611558   False   \n",
       "1845        1       Border_terrier  0.664538    True   \n",
       "1106        1          tennis_ball  0.176495   False   \n",
       "\n",
       "                               p2   p2_conf  p2_dog  \\\n",
       "2061                        boxer  0.002129    True   \n",
       "1414                      doormat  0.111790   False   \n",
       "1280             miniature_poodle  0.207458    True   \n",
       "411   soft-coated_wheaten_terrier  0.048928    True   \n",
       "1832                       jaguar  0.095487   False   \n",
       "1284                 lesser_panda  0.214715   False   \n",
       "1895                       collie  0.107405    True   \n",
       "244                   tailed_frog  0.186484   False   \n",
       "1845            Brabancon_griffon  0.170451    True   \n",
       "1106                       badger  0.059905   False   \n",
       "\n",
       "                             p3   p3_conf  p3_dog  \n",
       "2061  Staffordshire_bullterrier  0.001498    True  \n",
       "1414                    macaque  0.088925   False  \n",
       "1280               croquet_ball  0.085879   False  \n",
       "411              Siberian_husky  0.030386    True  \n",
       "1832               snow_leopard  0.079694   False  \n",
       "1284                       titi  0.091685   False  \n",
       "1895                   Pembroke  0.052335    True  \n",
       "244                 common_newt  0.078694   False  \n",
       "1845          Yorkshire_terrier  0.087824    True  \n",
       "1106         Norwegian_elkhound  0.056850    True  "
      ]
     },
     "execution_count": 114,
     "metadata": {},
     "output_type": "execute_result"
    }
   ],
   "source": [
    "image_pred.sample(10)"
   ]
  },
  {
   "cell_type": "code",
   "execution_count": 115,
   "id": "b69ccdb5",
   "metadata": {},
   "outputs": [
    {
     "data": {
      "text/html": [
       "<div>\n",
       "<style scoped>\n",
       "    .dataframe tbody tr th:only-of-type {\n",
       "        vertical-align: middle;\n",
       "    }\n",
       "\n",
       "    .dataframe tbody tr th {\n",
       "        vertical-align: top;\n",
       "    }\n",
       "\n",
       "    .dataframe thead th {\n",
       "        text-align: right;\n",
       "    }\n",
       "</style>\n",
       "<table border=\"1\" class=\"dataframe\">\n",
       "  <thead>\n",
       "    <tr style=\"text-align: right;\">\n",
       "      <th></th>\n",
       "      <th>tweet_id</th>\n",
       "      <th>favorite_count</th>\n",
       "      <th>retweet_count</th>\n",
       "    </tr>\n",
       "  </thead>\n",
       "  <tbody>\n",
       "    <tr>\n",
       "      <th>616</th>\n",
       "      <td>796387464403357696</td>\n",
       "      <td>12334</td>\n",
       "      <td>4861</td>\n",
       "    </tr>\n",
       "    <tr>\n",
       "      <th>1380</th>\n",
       "      <td>700864154249383937</td>\n",
       "      <td>2828</td>\n",
       "      <td>685</td>\n",
       "    </tr>\n",
       "    <tr>\n",
       "      <th>1551</th>\n",
       "      <td>688908934925697024</td>\n",
       "      <td>2310</td>\n",
       "      <td>874</td>\n",
       "    </tr>\n",
       "    <tr>\n",
       "      <th>1568</th>\n",
       "      <td>687732144991551489</td>\n",
       "      <td>1935</td>\n",
       "      <td>750</td>\n",
       "    </tr>\n",
       "    <tr>\n",
       "      <th>1228</th>\n",
       "      <td>713411074226274305</td>\n",
       "      <td>4802</td>\n",
       "      <td>1440</td>\n",
       "    </tr>\n",
       "    <tr>\n",
       "      <th>320</th>\n",
       "      <td>834209720923721728</td>\n",
       "      <td>22594</td>\n",
       "      <td>5476</td>\n",
       "    </tr>\n",
       "    <tr>\n",
       "      <th>1455</th>\n",
       "      <td>695095422348574720</td>\n",
       "      <td>2888</td>\n",
       "      <td>684</td>\n",
       "    </tr>\n",
       "    <tr>\n",
       "      <th>1918</th>\n",
       "      <td>674265582246694913</td>\n",
       "      <td>1766</td>\n",
       "      <td>936</td>\n",
       "    </tr>\n",
       "  </tbody>\n",
       "</table>\n",
       "</div>"
      ],
      "text/plain": [
       "                tweet_id  favorite_count  retweet_count\n",
       "616   796387464403357696           12334           4861\n",
       "1380  700864154249383937            2828            685\n",
       "1551  688908934925697024            2310            874\n",
       "1568  687732144991551489            1935            750\n",
       "1228  713411074226274305            4802           1440\n",
       "320   834209720923721728           22594           5476\n",
       "1455  695095422348574720            2888            684\n",
       "1918  674265582246694913            1766            936"
      ]
     },
     "execution_count": 115,
     "metadata": {},
     "output_type": "execute_result"
    }
   ],
   "source": [
    "df_json.sample(8)"
   ]
  },
  {
   "cell_type": "markdown",
   "id": "9e09ac7a",
   "metadata": {},
   "source": [
    "#### Programmatic Assessment"
   ]
  },
  {
   "cell_type": "markdown",
   "id": "f57c8262",
   "metadata": {},
   "source": [
    "### Quality Issues\n",
    "\n",
    "#### twitter_archived\n",
    "1) tweet_id should be in string instead of int<br>\n",
    "2) Retweeted ratings are present.<br>\n",
    "3) datatype of timestamp should be datetime (not object) and the +0000 should be sliced out.<br>\n",
    "4) Remove doggo-puppo columns from df_archived.<br>\n",
    "5) Invalid names like \"a\" in the name column.<br>\n",
    "6) Denominator should be set to 10 but we can observe numbers like 40,120,150,2,etc.<br>\n",
    "\n",
    "\n",
    "#### image_pred\n",
    "1) tweet_id should be in string instead of int <br>\n",
    "2) p1_dog, p2_dog, p3_dog = False, these tuples can be deleted as they predict the image is not a dog.<br>\n",
    "3) img_num should be in category datatype.<br>\n",
    "4) Create a column for prediction of the dog's breed.<br>\n",
    "\n",
    "#### twitter_json\n",
    "1) tweet_id should be in string instead of int\n",
    "\n",
    "### Tidiness Issues\n",
    "1) Unnecessary extra columns (doggo - puppo) which can be  displayed in one columm and change the datatype of dog_type to category.<br>\n",
    "2) Merge all the dataframes on tweetid.\n"
   ]
  },
  {
   "cell_type": "code",
   "execution_count": 116,
   "id": "97730d4e",
   "metadata": {},
   "outputs": [
    {
     "name": "stdout",
     "output_type": "stream",
     "text": [
      "<class 'pandas.core.frame.DataFrame'>\n",
      "RangeIndex: 2356 entries, 0 to 2355\n",
      "Data columns (total 17 columns):\n",
      " #   Column                      Non-Null Count  Dtype  \n",
      "---  ------                      --------------  -----  \n",
      " 0   tweet_id                    2356 non-null   int64  \n",
      " 1   in_reply_to_status_id       78 non-null     float64\n",
      " 2   in_reply_to_user_id         78 non-null     float64\n",
      " 3   timestamp                   2356 non-null   object \n",
      " 4   source                      2356 non-null   object \n",
      " 5   text                        2356 non-null   object \n",
      " 6   retweeted_status_id         181 non-null    float64\n",
      " 7   retweeted_status_user_id    181 non-null    float64\n",
      " 8   retweeted_status_timestamp  181 non-null    object \n",
      " 9   expanded_urls               2297 non-null   object \n",
      " 10  rating_numerator            2356 non-null   int64  \n",
      " 11  rating_denominator          2356 non-null   int64  \n",
      " 12  name                        2356 non-null   object \n",
      " 13  doggo                       2356 non-null   object \n",
      " 14  floofer                     2356 non-null   object \n",
      " 15  pupper                      2356 non-null   object \n",
      " 16  puppo                       2356 non-null   object \n",
      "dtypes: float64(4), int64(3), object(10)\n",
      "memory usage: 313.0+ KB\n"
     ]
    }
   ],
   "source": [
    "df_archived.info()"
   ]
  },
  {
   "cell_type": "code",
   "execution_count": 117,
   "id": "a225ec42",
   "metadata": {},
   "outputs": [
    {
     "data": {
      "text/plain": [
       "None          745\n",
       "a              55\n",
       "Charlie        12\n",
       "Cooper         11\n",
       "Lucy           11\n",
       "             ... \n",
       "Dex             1\n",
       "Ace             1\n",
       "Tayzie          1\n",
       "Grizzie         1\n",
       "Christoper      1\n",
       "Name: name, Length: 957, dtype: int64"
      ]
     },
     "execution_count": 117,
     "metadata": {},
     "output_type": "execute_result"
    }
   ],
   "source": [
    "df_archived.name.value_counts()"
   ]
  },
  {
   "cell_type": "code",
   "execution_count": 118,
   "id": "24ee31e5",
   "metadata": {},
   "outputs": [
    {
     "data": {
      "text/plain": [
       "12      558\n",
       "11      464\n",
       "10      461\n",
       "13      351\n",
       "9       158\n",
       "8       102\n",
       "7        55\n",
       "14       54\n",
       "5        37\n",
       "6        32\n",
       "3        19\n",
       "4        17\n",
       "2         9\n",
       "1         9\n",
       "75        2\n",
       "15        2\n",
       "420       2\n",
       "0         2\n",
       "80        1\n",
       "144       1\n",
       "17        1\n",
       "26        1\n",
       "20        1\n",
       "121       1\n",
       "143       1\n",
       "44        1\n",
       "60        1\n",
       "45        1\n",
       "50        1\n",
       "99        1\n",
       "204       1\n",
       "1776      1\n",
       "165       1\n",
       "666       1\n",
       "27        1\n",
       "182       1\n",
       "24        1\n",
       "960       1\n",
       "84        1\n",
       "88        1\n",
       "Name: rating_numerator, dtype: int64"
      ]
     },
     "execution_count": 118,
     "metadata": {},
     "output_type": "execute_result"
    }
   ],
   "source": [
    "df_archived.rating_numerator.value_counts()"
   ]
  },
  {
   "cell_type": "code",
   "execution_count": 119,
   "id": "a0d660d8",
   "metadata": {},
   "outputs": [
    {
     "data": {
      "text/plain": [
       "10     2333\n",
       "11        3\n",
       "50        3\n",
       "20        2\n",
       "80        2\n",
       "70        1\n",
       "7         1\n",
       "15        1\n",
       "150       1\n",
       "170       1\n",
       "0         1\n",
       "90        1\n",
       "40        1\n",
       "130       1\n",
       "110       1\n",
       "16        1\n",
       "120       1\n",
       "2         1\n",
       "Name: rating_denominator, dtype: int64"
      ]
     },
     "execution_count": 119,
     "metadata": {},
     "output_type": "execute_result"
    }
   ],
   "source": [
    "df_archived.rating_denominator.value_counts()"
   ]
  },
  {
   "cell_type": "code",
   "execution_count": 120,
   "id": "0d86c59c",
   "metadata": {},
   "outputs": [
    {
     "name": "stdout",
     "output_type": "stream",
     "text": [
      "<class 'pandas.core.frame.DataFrame'>\n",
      "RangeIndex: 2075 entries, 0 to 2074\n",
      "Data columns (total 12 columns):\n",
      " #   Column    Non-Null Count  Dtype  \n",
      "---  ------    --------------  -----  \n",
      " 0   tweet_id  2075 non-null   int64  \n",
      " 1   jpg_url   2075 non-null   object \n",
      " 2   img_num   2075 non-null   int64  \n",
      " 3   p1        2075 non-null   object \n",
      " 4   p1_conf   2075 non-null   float64\n",
      " 5   p1_dog    2075 non-null   bool   \n",
      " 6   p2        2075 non-null   object \n",
      " 7   p2_conf   2075 non-null   float64\n",
      " 8   p2_dog    2075 non-null   bool   \n",
      " 9   p3        2075 non-null   object \n",
      " 10  p3_conf   2075 non-null   float64\n",
      " 11  p3_dog    2075 non-null   bool   \n",
      "dtypes: bool(3), float64(3), int64(2), object(4)\n",
      "memory usage: 152.1+ KB\n"
     ]
    }
   ],
   "source": [
    "image_pred.info()"
   ]
  },
  {
   "cell_type": "code",
   "execution_count": 121,
   "id": "3b8448f8",
   "metadata": {},
   "outputs": [
    {
     "data": {
      "text/html": [
       "<div>\n",
       "<style scoped>\n",
       "    .dataframe tbody tr th:only-of-type {\n",
       "        vertical-align: middle;\n",
       "    }\n",
       "\n",
       "    .dataframe tbody tr th {\n",
       "        vertical-align: top;\n",
       "    }\n",
       "\n",
       "    .dataframe thead th {\n",
       "        text-align: right;\n",
       "    }\n",
       "</style>\n",
       "<table border=\"1\" class=\"dataframe\">\n",
       "  <thead>\n",
       "    <tr style=\"text-align: right;\">\n",
       "      <th></th>\n",
       "      <th>tweet_id</th>\n",
       "      <th>jpg_url</th>\n",
       "      <th>img_num</th>\n",
       "      <th>p1</th>\n",
       "      <th>p1_conf</th>\n",
       "      <th>p1_dog</th>\n",
       "      <th>p2</th>\n",
       "      <th>p2_conf</th>\n",
       "      <th>p2_dog</th>\n",
       "      <th>p3</th>\n",
       "      <th>p3_conf</th>\n",
       "      <th>p3_dog</th>\n",
       "    </tr>\n",
       "  </thead>\n",
       "  <tbody>\n",
       "    <tr>\n",
       "      <th>0</th>\n",
       "      <td>666020888022790149</td>\n",
       "      <td>https://pbs.twimg.com/media/CT4udn0WwAA0aMy.jpg</td>\n",
       "      <td>1</td>\n",
       "      <td>Welsh_springer_spaniel</td>\n",
       "      <td>0.465074</td>\n",
       "      <td>True</td>\n",
       "      <td>collie</td>\n",
       "      <td>0.156665</td>\n",
       "      <td>True</td>\n",
       "      <td>Shetland_sheepdog</td>\n",
       "      <td>0.061428</td>\n",
       "      <td>True</td>\n",
       "    </tr>\n",
       "    <tr>\n",
       "      <th>1</th>\n",
       "      <td>666029285002620928</td>\n",
       "      <td>https://pbs.twimg.com/media/CT42GRgUYAA5iDo.jpg</td>\n",
       "      <td>1</td>\n",
       "      <td>redbone</td>\n",
       "      <td>0.506826</td>\n",
       "      <td>True</td>\n",
       "      <td>miniature_pinscher</td>\n",
       "      <td>0.074192</td>\n",
       "      <td>True</td>\n",
       "      <td>Rhodesian_ridgeback</td>\n",
       "      <td>0.072010</td>\n",
       "      <td>True</td>\n",
       "    </tr>\n",
       "    <tr>\n",
       "      <th>2</th>\n",
       "      <td>666033412701032449</td>\n",
       "      <td>https://pbs.twimg.com/media/CT4521TWwAEvMyu.jpg</td>\n",
       "      <td>1</td>\n",
       "      <td>German_shepherd</td>\n",
       "      <td>0.596461</td>\n",
       "      <td>True</td>\n",
       "      <td>malinois</td>\n",
       "      <td>0.138584</td>\n",
       "      <td>True</td>\n",
       "      <td>bloodhound</td>\n",
       "      <td>0.116197</td>\n",
       "      <td>True</td>\n",
       "    </tr>\n",
       "    <tr>\n",
       "      <th>3</th>\n",
       "      <td>666044226329800704</td>\n",
       "      <td>https://pbs.twimg.com/media/CT5Dr8HUEAA-lEu.jpg</td>\n",
       "      <td>1</td>\n",
       "      <td>Rhodesian_ridgeback</td>\n",
       "      <td>0.408143</td>\n",
       "      <td>True</td>\n",
       "      <td>redbone</td>\n",
       "      <td>0.360687</td>\n",
       "      <td>True</td>\n",
       "      <td>miniature_pinscher</td>\n",
       "      <td>0.222752</td>\n",
       "      <td>True</td>\n",
       "    </tr>\n",
       "    <tr>\n",
       "      <th>4</th>\n",
       "      <td>666049248165822465</td>\n",
       "      <td>https://pbs.twimg.com/media/CT5IQmsXIAAKY4A.jpg</td>\n",
       "      <td>1</td>\n",
       "      <td>miniature_pinscher</td>\n",
       "      <td>0.560311</td>\n",
       "      <td>True</td>\n",
       "      <td>Rottweiler</td>\n",
       "      <td>0.243682</td>\n",
       "      <td>True</td>\n",
       "      <td>Doberman</td>\n",
       "      <td>0.154629</td>\n",
       "      <td>True</td>\n",
       "    </tr>\n",
       "  </tbody>\n",
       "</table>\n",
       "</div>"
      ],
      "text/plain": [
       "             tweet_id                                          jpg_url  \\\n",
       "0  666020888022790149  https://pbs.twimg.com/media/CT4udn0WwAA0aMy.jpg   \n",
       "1  666029285002620928  https://pbs.twimg.com/media/CT42GRgUYAA5iDo.jpg   \n",
       "2  666033412701032449  https://pbs.twimg.com/media/CT4521TWwAEvMyu.jpg   \n",
       "3  666044226329800704  https://pbs.twimg.com/media/CT5Dr8HUEAA-lEu.jpg   \n",
       "4  666049248165822465  https://pbs.twimg.com/media/CT5IQmsXIAAKY4A.jpg   \n",
       "\n",
       "   img_num                      p1   p1_conf  p1_dog                  p2  \\\n",
       "0        1  Welsh_springer_spaniel  0.465074    True              collie   \n",
       "1        1                 redbone  0.506826    True  miniature_pinscher   \n",
       "2        1         German_shepherd  0.596461    True            malinois   \n",
       "3        1     Rhodesian_ridgeback  0.408143    True             redbone   \n",
       "4        1      miniature_pinscher  0.560311    True          Rottweiler   \n",
       "\n",
       "    p2_conf  p2_dog                   p3   p3_conf  p3_dog  \n",
       "0  0.156665    True    Shetland_sheepdog  0.061428    True  \n",
       "1  0.074192    True  Rhodesian_ridgeback  0.072010    True  \n",
       "2  0.138584    True           bloodhound  0.116197    True  \n",
       "3  0.360687    True   miniature_pinscher  0.222752    True  \n",
       "4  0.243682    True             Doberman  0.154629    True  "
      ]
     },
     "execution_count": 121,
     "metadata": {},
     "output_type": "execute_result"
    }
   ],
   "source": [
    "image_pred.head()"
   ]
  },
  {
   "cell_type": "code",
   "execution_count": 122,
   "id": "8b593592",
   "metadata": {},
   "outputs": [
    {
     "data": {
      "text/html": [
       "<div>\n",
       "<style scoped>\n",
       "    .dataframe tbody tr th:only-of-type {\n",
       "        vertical-align: middle;\n",
       "    }\n",
       "\n",
       "    .dataframe tbody tr th {\n",
       "        vertical-align: top;\n",
       "    }\n",
       "\n",
       "    .dataframe thead th {\n",
       "        text-align: right;\n",
       "    }\n",
       "</style>\n",
       "<table border=\"1\" class=\"dataframe\">\n",
       "  <thead>\n",
       "    <tr style=\"text-align: right;\">\n",
       "      <th></th>\n",
       "      <th>tweet_id</th>\n",
       "      <th>jpg_url</th>\n",
       "      <th>img_num</th>\n",
       "      <th>p1</th>\n",
       "      <th>p1_conf</th>\n",
       "      <th>p1_dog</th>\n",
       "      <th>p2</th>\n",
       "      <th>p2_conf</th>\n",
       "      <th>p2_dog</th>\n",
       "      <th>p3</th>\n",
       "      <th>p3_conf</th>\n",
       "      <th>p3_dog</th>\n",
       "    </tr>\n",
       "  </thead>\n",
       "  <tbody>\n",
       "    <tr>\n",
       "      <th>6</th>\n",
       "      <td>666051853826850816</td>\n",
       "      <td>https://pbs.twimg.com/media/CT5KoJ1WoAAJash.jpg</td>\n",
       "      <td>1</td>\n",
       "      <td>box_turtle</td>\n",
       "      <td>0.933012</td>\n",
       "      <td>False</td>\n",
       "      <td>mud_turtle</td>\n",
       "      <td>0.045885</td>\n",
       "      <td>False</td>\n",
       "      <td>terrapin</td>\n",
       "      <td>0.017885</td>\n",
       "      <td>False</td>\n",
       "    </tr>\n",
       "    <tr>\n",
       "      <th>17</th>\n",
       "      <td>666104133288665088</td>\n",
       "      <td>https://pbs.twimg.com/media/CT56LSZWoAAlJj2.jpg</td>\n",
       "      <td>1</td>\n",
       "      <td>hen</td>\n",
       "      <td>0.965932</td>\n",
       "      <td>False</td>\n",
       "      <td>cock</td>\n",
       "      <td>0.033919</td>\n",
       "      <td>False</td>\n",
       "      <td>partridge</td>\n",
       "      <td>0.000052</td>\n",
       "      <td>False</td>\n",
       "    </tr>\n",
       "    <tr>\n",
       "      <th>18</th>\n",
       "      <td>666268910803644416</td>\n",
       "      <td>https://pbs.twimg.com/media/CT8QCd1WEAADXws.jpg</td>\n",
       "      <td>1</td>\n",
       "      <td>desktop_computer</td>\n",
       "      <td>0.086502</td>\n",
       "      <td>False</td>\n",
       "      <td>desk</td>\n",
       "      <td>0.085547</td>\n",
       "      <td>False</td>\n",
       "      <td>bookcase</td>\n",
       "      <td>0.079480</td>\n",
       "      <td>False</td>\n",
       "    </tr>\n",
       "    <tr>\n",
       "      <th>21</th>\n",
       "      <td>666293911632134144</td>\n",
       "      <td>https://pbs.twimg.com/media/CT8mx7KW4AEQu8N.jpg</td>\n",
       "      <td>1</td>\n",
       "      <td>three-toed_sloth</td>\n",
       "      <td>0.914671</td>\n",
       "      <td>False</td>\n",
       "      <td>otter</td>\n",
       "      <td>0.015250</td>\n",
       "      <td>False</td>\n",
       "      <td>great_grey_owl</td>\n",
       "      <td>0.013207</td>\n",
       "      <td>False</td>\n",
       "    </tr>\n",
       "    <tr>\n",
       "      <th>25</th>\n",
       "      <td>666362758909284353</td>\n",
       "      <td>https://pbs.twimg.com/media/CT9lXGsUcAAyUFt.jpg</td>\n",
       "      <td>1</td>\n",
       "      <td>guinea_pig</td>\n",
       "      <td>0.996496</td>\n",
       "      <td>False</td>\n",
       "      <td>skunk</td>\n",
       "      <td>0.002402</td>\n",
       "      <td>False</td>\n",
       "      <td>hamster</td>\n",
       "      <td>0.000461</td>\n",
       "      <td>False</td>\n",
       "    </tr>\n",
       "    <tr>\n",
       "      <th>...</th>\n",
       "      <td>...</td>\n",
       "      <td>...</td>\n",
       "      <td>...</td>\n",
       "      <td>...</td>\n",
       "      <td>...</td>\n",
       "      <td>...</td>\n",
       "      <td>...</td>\n",
       "      <td>...</td>\n",
       "      <td>...</td>\n",
       "      <td>...</td>\n",
       "      <td>...</td>\n",
       "      <td>...</td>\n",
       "    </tr>\n",
       "    <tr>\n",
       "      <th>2021</th>\n",
       "      <td>880935762899988482</td>\n",
       "      <td>https://pbs.twimg.com/media/DDm2Z5aXUAEDS2u.jpg</td>\n",
       "      <td>1</td>\n",
       "      <td>street_sign</td>\n",
       "      <td>0.251801</td>\n",
       "      <td>False</td>\n",
       "      <td>umbrella</td>\n",
       "      <td>0.115123</td>\n",
       "      <td>False</td>\n",
       "      <td>traffic_light</td>\n",
       "      <td>0.069534</td>\n",
       "      <td>False</td>\n",
       "    </tr>\n",
       "    <tr>\n",
       "      <th>2022</th>\n",
       "      <td>881268444196462592</td>\n",
       "      <td>https://pbs.twimg.com/media/DDrk-f9WAAI-WQv.jpg</td>\n",
       "      <td>1</td>\n",
       "      <td>tusker</td>\n",
       "      <td>0.473303</td>\n",
       "      <td>False</td>\n",
       "      <td>Indian_elephant</td>\n",
       "      <td>0.245646</td>\n",
       "      <td>False</td>\n",
       "      <td>ibex</td>\n",
       "      <td>0.055661</td>\n",
       "      <td>False</td>\n",
       "    </tr>\n",
       "    <tr>\n",
       "      <th>2046</th>\n",
       "      <td>886680336477933568</td>\n",
       "      <td>https://pbs.twimg.com/media/DE4fEDzWAAAyHMM.jpg</td>\n",
       "      <td>1</td>\n",
       "      <td>convertible</td>\n",
       "      <td>0.738995</td>\n",
       "      <td>False</td>\n",
       "      <td>sports_car</td>\n",
       "      <td>0.139952</td>\n",
       "      <td>False</td>\n",
       "      <td>car_wheel</td>\n",
       "      <td>0.044173</td>\n",
       "      <td>False</td>\n",
       "    </tr>\n",
       "    <tr>\n",
       "      <th>2052</th>\n",
       "      <td>887517139158093824</td>\n",
       "      <td>https://pbs.twimg.com/ext_tw_video_thumb/88751...</td>\n",
       "      <td>1</td>\n",
       "      <td>limousine</td>\n",
       "      <td>0.130432</td>\n",
       "      <td>False</td>\n",
       "      <td>tow_truck</td>\n",
       "      <td>0.029175</td>\n",
       "      <td>False</td>\n",
       "      <td>shopping_cart</td>\n",
       "      <td>0.026321</td>\n",
       "      <td>False</td>\n",
       "    </tr>\n",
       "    <tr>\n",
       "      <th>2074</th>\n",
       "      <td>892420643555336193</td>\n",
       "      <td>https://pbs.twimg.com/media/DGKD1-bXoAAIAUK.jpg</td>\n",
       "      <td>1</td>\n",
       "      <td>orange</td>\n",
       "      <td>0.097049</td>\n",
       "      <td>False</td>\n",
       "      <td>bagel</td>\n",
       "      <td>0.085851</td>\n",
       "      <td>False</td>\n",
       "      <td>banana</td>\n",
       "      <td>0.076110</td>\n",
       "      <td>False</td>\n",
       "    </tr>\n",
       "  </tbody>\n",
       "</table>\n",
       "<p>324 rows × 12 columns</p>\n",
       "</div>"
      ],
      "text/plain": [
       "                tweet_id                                            jpg_url  \\\n",
       "6     666051853826850816    https://pbs.twimg.com/media/CT5KoJ1WoAAJash.jpg   \n",
       "17    666104133288665088    https://pbs.twimg.com/media/CT56LSZWoAAlJj2.jpg   \n",
       "18    666268910803644416    https://pbs.twimg.com/media/CT8QCd1WEAADXws.jpg   \n",
       "21    666293911632134144    https://pbs.twimg.com/media/CT8mx7KW4AEQu8N.jpg   \n",
       "25    666362758909284353    https://pbs.twimg.com/media/CT9lXGsUcAAyUFt.jpg   \n",
       "...                  ...                                                ...   \n",
       "2021  880935762899988482    https://pbs.twimg.com/media/DDm2Z5aXUAEDS2u.jpg   \n",
       "2022  881268444196462592    https://pbs.twimg.com/media/DDrk-f9WAAI-WQv.jpg   \n",
       "2046  886680336477933568    https://pbs.twimg.com/media/DE4fEDzWAAAyHMM.jpg   \n",
       "2052  887517139158093824  https://pbs.twimg.com/ext_tw_video_thumb/88751...   \n",
       "2074  892420643555336193    https://pbs.twimg.com/media/DGKD1-bXoAAIAUK.jpg   \n",
       "\n",
       "      img_num                p1   p1_conf  p1_dog               p2   p2_conf  \\\n",
       "6           1        box_turtle  0.933012   False       mud_turtle  0.045885   \n",
       "17          1               hen  0.965932   False             cock  0.033919   \n",
       "18          1  desktop_computer  0.086502   False             desk  0.085547   \n",
       "21          1  three-toed_sloth  0.914671   False            otter  0.015250   \n",
       "25          1        guinea_pig  0.996496   False            skunk  0.002402   \n",
       "...       ...               ...       ...     ...              ...       ...   \n",
       "2021        1       street_sign  0.251801   False         umbrella  0.115123   \n",
       "2022        1            tusker  0.473303   False  Indian_elephant  0.245646   \n",
       "2046        1       convertible  0.738995   False       sports_car  0.139952   \n",
       "2052        1         limousine  0.130432   False        tow_truck  0.029175   \n",
       "2074        1            orange  0.097049   False            bagel  0.085851   \n",
       "\n",
       "      p2_dog              p3   p3_conf  p3_dog  \n",
       "6      False        terrapin  0.017885   False  \n",
       "17     False       partridge  0.000052   False  \n",
       "18     False        bookcase  0.079480   False  \n",
       "21     False  great_grey_owl  0.013207   False  \n",
       "25     False         hamster  0.000461   False  \n",
       "...      ...             ...       ...     ...  \n",
       "2021   False   traffic_light  0.069534   False  \n",
       "2022   False            ibex  0.055661   False  \n",
       "2046   False       car_wheel  0.044173   False  \n",
       "2052   False   shopping_cart  0.026321   False  \n",
       "2074   False          banana  0.076110   False  \n",
       "\n",
       "[324 rows x 12 columns]"
      ]
     },
     "execution_count": 122,
     "metadata": {},
     "output_type": "execute_result"
    }
   ],
   "source": [
    "image_pred.query('p1_dog == False and p2_dog == False and p3_dog == False')"
   ]
  },
  {
   "cell_type": "code",
   "execution_count": 123,
   "id": "02490634",
   "metadata": {},
   "outputs": [
    {
     "data": {
      "text/plain": [
       "1    1780\n",
       "2     198\n",
       "3      66\n",
       "4      31\n",
       "Name: img_num, dtype: int64"
      ]
     },
     "execution_count": 123,
     "metadata": {},
     "output_type": "execute_result"
    }
   ],
   "source": [
    "image_pred.img_num.value_counts()"
   ]
  },
  {
   "cell_type": "code",
   "execution_count": 124,
   "id": "5b339fc3",
   "metadata": {},
   "outputs": [
    {
     "data": {
      "text/plain": [
       "tweet_id      int64\n",
       "jpg_url      object\n",
       "img_num       int64\n",
       "p1           object\n",
       "p1_conf     float64\n",
       "p1_dog         bool\n",
       "p2           object\n",
       "p2_conf     float64\n",
       "p2_dog         bool\n",
       "p3           object\n",
       "p3_conf     float64\n",
       "p3_dog         bool\n",
       "dtype: object"
      ]
     },
     "execution_count": 124,
     "metadata": {},
     "output_type": "execute_result"
    }
   ],
   "source": [
    "image_pred.dtypes"
   ]
  },
  {
   "cell_type": "code",
   "execution_count": 125,
   "id": "51614ea6",
   "metadata": {},
   "outputs": [
    {
     "data": {
      "text/plain": [
       "golden_retriever      150\n",
       "Labrador_retriever    100\n",
       "Pembroke               89\n",
       "Chihuahua              83\n",
       "pug                    57\n",
       "                     ... \n",
       "pillow                  1\n",
       "carousel                1\n",
       "bald_eagle              1\n",
       "lorikeet                1\n",
       "orange                  1\n",
       "Name: p1, Length: 378, dtype: int64"
      ]
     },
     "execution_count": 125,
     "metadata": {},
     "output_type": "execute_result"
    }
   ],
   "source": [
    "image_pred.p1.value_counts()"
   ]
  },
  {
   "cell_type": "code",
   "execution_count": 126,
   "id": "7b87e1d9",
   "metadata": {},
   "outputs": [
    {
     "data": {
      "text/plain": [
       "Labrador_retriever    104\n",
       "golden_retriever       92\n",
       "Cardigan               73\n",
       "Chihuahua              44\n",
       "Pomeranian             42\n",
       "                     ... \n",
       "medicine_chest          1\n",
       "quail                   1\n",
       "horse_cart              1\n",
       "waffle_iron             1\n",
       "bagel                   1\n",
       "Name: p2, Length: 405, dtype: int64"
      ]
     },
     "execution_count": 126,
     "metadata": {},
     "output_type": "execute_result"
    }
   ],
   "source": [
    "image_pred.p2.value_counts()"
   ]
  },
  {
   "cell_type": "code",
   "execution_count": 127,
   "id": "02d85941",
   "metadata": {},
   "outputs": [
    {
     "data": {
      "text/plain": [
       "Labrador_retriever    79\n",
       "Chihuahua             58\n",
       "golden_retriever      48\n",
       "Eskimo_dog            38\n",
       "kelpie                35\n",
       "                      ..\n",
       "ox                     1\n",
       "assault_rifle          1\n",
       "axolotl                1\n",
       "pot                    1\n",
       "banana                 1\n",
       "Name: p3, Length: 408, dtype: int64"
      ]
     },
     "execution_count": 127,
     "metadata": {},
     "output_type": "execute_result"
    }
   ],
   "source": [
    "image_pred.p3.value_counts()"
   ]
  },
  {
   "cell_type": "code",
   "execution_count": 128,
   "id": "7116c187",
   "metadata": {},
   "outputs": [
    {
     "name": "stdout",
     "output_type": "stream",
     "text": [
      "<class 'pandas.core.frame.DataFrame'>\n",
      "RangeIndex: 2354 entries, 0 to 2353\n",
      "Data columns (total 3 columns):\n",
      " #   Column          Non-Null Count  Dtype\n",
      "---  ------          --------------  -----\n",
      " 0   tweet_id        2354 non-null   int64\n",
      " 1   favorite_count  2354 non-null   int64\n",
      " 2   retweet_count   2354 non-null   int64\n",
      "dtypes: int64(3)\n",
      "memory usage: 55.3 KB\n"
     ]
    }
   ],
   "source": [
    "df_json.info()"
   ]
  },
  {
   "cell_type": "code",
   "execution_count": 129,
   "id": "597821ac",
   "metadata": {},
   "outputs": [
    {
     "data": {
      "text/plain": [
       "tweet_id          int64\n",
       "favorite_count    int64\n",
       "retweet_count     int64\n",
       "dtype: object"
      ]
     },
     "execution_count": 129,
     "metadata": {},
     "output_type": "execute_result"
    }
   ],
   "source": [
    "df_json.dtypes"
   ]
  },
  {
   "cell_type": "code",
   "execution_count": 130,
   "id": "287d2004",
   "metadata": {},
   "outputs": [
    {
     "data": {
      "text/html": [
       "<div>\n",
       "<style scoped>\n",
       "    .dataframe tbody tr th:only-of-type {\n",
       "        vertical-align: middle;\n",
       "    }\n",
       "\n",
       "    .dataframe tbody tr th {\n",
       "        vertical-align: top;\n",
       "    }\n",
       "\n",
       "    .dataframe thead th {\n",
       "        text-align: right;\n",
       "    }\n",
       "</style>\n",
       "<table border=\"1\" class=\"dataframe\">\n",
       "  <thead>\n",
       "    <tr style=\"text-align: right;\">\n",
       "      <th></th>\n",
       "      <th>tweet_id</th>\n",
       "      <th>favorite_count</th>\n",
       "      <th>retweet_count</th>\n",
       "    </tr>\n",
       "  </thead>\n",
       "  <tbody>\n",
       "    <tr>\n",
       "      <th>0</th>\n",
       "      <td>892420643555336193</td>\n",
       "      <td>39467</td>\n",
       "      <td>8853</td>\n",
       "    </tr>\n",
       "    <tr>\n",
       "      <th>1</th>\n",
       "      <td>892177421306343426</td>\n",
       "      <td>33819</td>\n",
       "      <td>6514</td>\n",
       "    </tr>\n",
       "    <tr>\n",
       "      <th>2</th>\n",
       "      <td>891815181378084864</td>\n",
       "      <td>25461</td>\n",
       "      <td>4328</td>\n",
       "    </tr>\n",
       "    <tr>\n",
       "      <th>3</th>\n",
       "      <td>891689557279858688</td>\n",
       "      <td>42908</td>\n",
       "      <td>8964</td>\n",
       "    </tr>\n",
       "    <tr>\n",
       "      <th>4</th>\n",
       "      <td>891327558926688256</td>\n",
       "      <td>41048</td>\n",
       "      <td>9774</td>\n",
       "    </tr>\n",
       "    <tr>\n",
       "      <th>...</th>\n",
       "      <td>...</td>\n",
       "      <td>...</td>\n",
       "      <td>...</td>\n",
       "    </tr>\n",
       "    <tr>\n",
       "      <th>2349</th>\n",
       "      <td>666049248165822465</td>\n",
       "      <td>111</td>\n",
       "      <td>41</td>\n",
       "    </tr>\n",
       "    <tr>\n",
       "      <th>2350</th>\n",
       "      <td>666044226329800704</td>\n",
       "      <td>311</td>\n",
       "      <td>147</td>\n",
       "    </tr>\n",
       "    <tr>\n",
       "      <th>2351</th>\n",
       "      <td>666033412701032449</td>\n",
       "      <td>128</td>\n",
       "      <td>47</td>\n",
       "    </tr>\n",
       "    <tr>\n",
       "      <th>2352</th>\n",
       "      <td>666029285002620928</td>\n",
       "      <td>132</td>\n",
       "      <td>48</td>\n",
       "    </tr>\n",
       "    <tr>\n",
       "      <th>2353</th>\n",
       "      <td>666020888022790149</td>\n",
       "      <td>2535</td>\n",
       "      <td>532</td>\n",
       "    </tr>\n",
       "  </tbody>\n",
       "</table>\n",
       "<p>2354 rows × 3 columns</p>\n",
       "</div>"
      ],
      "text/plain": [
       "                tweet_id  favorite_count  retweet_count\n",
       "0     892420643555336193           39467           8853\n",
       "1     892177421306343426           33819           6514\n",
       "2     891815181378084864           25461           4328\n",
       "3     891689557279858688           42908           8964\n",
       "4     891327558926688256           41048           9774\n",
       "...                  ...             ...            ...\n",
       "2349  666049248165822465             111             41\n",
       "2350  666044226329800704             311            147\n",
       "2351  666033412701032449             128             47\n",
       "2352  666029285002620928             132             48\n",
       "2353  666020888022790149            2535            532\n",
       "\n",
       "[2354 rows x 3 columns]"
      ]
     },
     "execution_count": 130,
     "metadata": {},
     "output_type": "execute_result"
    }
   ],
   "source": [
    "df_json"
   ]
  },
  {
   "cell_type": "markdown",
   "id": "33b416aa",
   "metadata": {},
   "source": [
    "## Cleaning"
   ]
  },
  {
   "cell_type": "markdown",
   "id": "aa09b945",
   "metadata": {},
   "source": [
    "#### make copies of original data"
   ]
  },
  {
   "cell_type": "code",
   "execution_count": 131,
   "id": "d4571f7c",
   "metadata": {},
   "outputs": [],
   "source": [
    "twitter_archived_clean = df_archived.copy()\n",
    "image_pred_clean = image_pred.copy()\n",
    "tweet_json_clean = df_json.copy()"
   ]
  },
  {
   "cell_type": "code",
   "execution_count": 132,
   "id": "8e284879",
   "metadata": {},
   "outputs": [
    {
     "data": {
      "text/plain": [
       "0    This is Phineas. He's a mystical boy. Only eve...\n",
       "1    This is Tilly. She's just checking pup on you....\n",
       "2    This is Archie. He is a rare Norwegian Pouncin...\n",
       "3    This is Darla. She commenced a snooze mid meal...\n",
       "4    This is Franklin. He would like you to stop ca...\n",
       "Name: text, dtype: object"
      ]
     },
     "execution_count": 132,
     "metadata": {},
     "output_type": "execute_result"
    }
   ],
   "source": [
    "twitter_archived_clean.text.head()"
   ]
  },
  {
   "cell_type": "markdown",
   "id": "b7e73085",
   "metadata": {},
   "source": [
    "#### 1) `retweeted` ratings are present in `twitter_archived_clean`"
   ]
  },
  {
   "cell_type": "markdown",
   "id": "74686817",
   "metadata": {},
   "source": [
    "##### Define\n",
    "We'll check wherever, retweeted_status_id and in_reply_to_status_id is not null and remove these records.\n",
    "\n",
    "We'll drop the columns \n",
    "- retweeted_status_id\n",
    "- retweeted_status_user_id\n",
    "- retweeted_status_timestamp\n",
    "- in_reply_to_status_id\n",
    "- in_reply_to_user_id\n",
    "\n",
    "using drop()"
   ]
  },
  {
   "cell_type": "markdown",
   "id": "20e59867",
   "metadata": {},
   "source": [
    "##### Code\n",
    " "
   ]
  },
  {
   "cell_type": "code",
   "execution_count": 133,
   "id": "880c2c0d",
   "metadata": {},
   "outputs": [],
   "source": [
    "twitter_archived_clean = twitter_archived_clean[pd.isnull(twitter_archived_clean['retweeted_status_user_id'])]\n",
    "twitter_archived_clean = twitter_archived_clean[pd.isnull(twitter_archived_clean['in_reply_to_status_id'])]"
   ]
  },
  {
   "cell_type": "code",
   "execution_count": 134,
   "id": "ac16f98a",
   "metadata": {},
   "outputs": [],
   "source": [
    "twitter_archived_clean.drop(['in_reply_to_status_id',\n",
    " 'in_reply_to_user_id','retweeted_status_id',\n",
    " 'retweeted_status_user_id',\n",
    " 'retweeted_status_timestamp'],axis  = 1,inplace=True)"
   ]
  },
  {
   "cell_type": "markdown",
   "id": "46abef7a",
   "metadata": {},
   "source": [
    "##### Test"
   ]
  },
  {
   "cell_type": "code",
   "execution_count": 135,
   "id": "e1e9bc85",
   "metadata": {},
   "outputs": [
    {
     "name": "stdout",
     "output_type": "stream",
     "text": [
      "<class 'pandas.core.frame.DataFrame'>\n",
      "Int64Index: 2097 entries, 0 to 2355\n",
      "Data columns (total 12 columns):\n",
      " #   Column              Non-Null Count  Dtype \n",
      "---  ------              --------------  ----- \n",
      " 0   tweet_id            2097 non-null   int64 \n",
      " 1   timestamp           2097 non-null   object\n",
      " 2   source              2097 non-null   object\n",
      " 3   text                2097 non-null   object\n",
      " 4   expanded_urls       2094 non-null   object\n",
      " 5   rating_numerator    2097 non-null   int64 \n",
      " 6   rating_denominator  2097 non-null   int64 \n",
      " 7   name                2097 non-null   object\n",
      " 8   doggo               2097 non-null   object\n",
      " 9   floofer             2097 non-null   object\n",
      " 10  pupper              2097 non-null   object\n",
      " 11  puppo               2097 non-null   object\n",
      "dtypes: int64(3), object(9)\n",
      "memory usage: 213.0+ KB\n"
     ]
    }
   ],
   "source": [
    "twitter_archived_clean.info()"
   ]
  },
  {
   "cell_type": "markdown",
   "id": "e15f04d9",
   "metadata": {},
   "source": [
    "#### 2) datatype of `timestamp` should be datetime (not object) and the +0000 should be sliced out."
   ]
  },
  {
   "cell_type": "markdown",
   "id": "be1b6b60",
   "metadata": {},
   "source": [
    "##### Define\n",
    "We'll use string slicing method for slicing out the '0000+' portion from the timestamp and then use to_datetime method to change the datatype from object to datetime[ns]"
   ]
  },
  {
   "cell_type": "markdown",
   "id": "02035f66",
   "metadata": {},
   "source": [
    "##### Code"
   ]
  },
  {
   "cell_type": "code",
   "execution_count": 136,
   "id": "754e7028",
   "metadata": {},
   "outputs": [],
   "source": [
    "twitter_archived_clean.timestamp = twitter_archived_clean.timestamp.str[:-6]"
   ]
  },
  {
   "cell_type": "code",
   "execution_count": 137,
   "id": "ff445e6d",
   "metadata": {},
   "outputs": [],
   "source": [
    "twitter_archived_clean.timestamp = pd.to_datetime(twitter_archived_clean.timestamp)"
   ]
  },
  {
   "cell_type": "markdown",
   "id": "36149807",
   "metadata": {},
   "source": [
    "##### Test"
   ]
  },
  {
   "cell_type": "code",
   "execution_count": 138,
   "id": "d390baa8",
   "metadata": {},
   "outputs": [
    {
     "data": {
      "text/plain": [
       "dtype('<M8[ns]')"
      ]
     },
     "execution_count": 138,
     "metadata": {},
     "output_type": "execute_result"
    }
   ],
   "source": [
    "twitter_archived_clean.timestamp.dtype"
   ]
  },
  {
   "cell_type": "code",
   "execution_count": 139,
   "id": "e67ae3c5",
   "metadata": {},
   "outputs": [
    {
     "data": {
      "text/html": [
       "<div>\n",
       "<style scoped>\n",
       "    .dataframe tbody tr th:only-of-type {\n",
       "        vertical-align: middle;\n",
       "    }\n",
       "\n",
       "    .dataframe tbody tr th {\n",
       "        vertical-align: top;\n",
       "    }\n",
       "\n",
       "    .dataframe thead th {\n",
       "        text-align: right;\n",
       "    }\n",
       "</style>\n",
       "<table border=\"1\" class=\"dataframe\">\n",
       "  <thead>\n",
       "    <tr style=\"text-align: right;\">\n",
       "      <th></th>\n",
       "      <th>tweet_id</th>\n",
       "      <th>timestamp</th>\n",
       "      <th>source</th>\n",
       "      <th>text</th>\n",
       "      <th>expanded_urls</th>\n",
       "      <th>rating_numerator</th>\n",
       "      <th>rating_denominator</th>\n",
       "      <th>name</th>\n",
       "      <th>doggo</th>\n",
       "      <th>floofer</th>\n",
       "      <th>pupper</th>\n",
       "      <th>puppo</th>\n",
       "    </tr>\n",
       "  </thead>\n",
       "  <tbody>\n",
       "    <tr>\n",
       "      <th>1386</th>\n",
       "      <td>700518061187723268</td>\n",
       "      <td>2016-02-19 03:11:35</td>\n",
       "      <td>&lt;a href=\"http://twitter.com/download/iphone\" r...</td>\n",
       "      <td>This is Vincent. He's the man your girl is wit...</td>\n",
       "      <td>https://twitter.com/dog_rates/status/700518061...</td>\n",
       "      <td>10</td>\n",
       "      <td>10</td>\n",
       "      <td>Vincent</td>\n",
       "      <td>None</td>\n",
       "      <td>None</td>\n",
       "      <td>None</td>\n",
       "      <td>None</td>\n",
       "    </tr>\n",
       "    <tr>\n",
       "      <th>1395</th>\n",
       "      <td>699801817392291840</td>\n",
       "      <td>2016-02-17 03:45:29</td>\n",
       "      <td>&lt;a href=\"http://twitter.com/download/iphone\" r...</td>\n",
       "      <td>This is Cooper. He began to tear up when his b...</td>\n",
       "      <td>https://twitter.com/dog_rates/status/699801817...</td>\n",
       "      <td>11</td>\n",
       "      <td>10</td>\n",
       "      <td>Cooper</td>\n",
       "      <td>None</td>\n",
       "      <td>None</td>\n",
       "      <td>pupper</td>\n",
       "      <td>None</td>\n",
       "    </tr>\n",
       "  </tbody>\n",
       "</table>\n",
       "</div>"
      ],
      "text/plain": [
       "                tweet_id           timestamp  \\\n",
       "1386  700518061187723268 2016-02-19 03:11:35   \n",
       "1395  699801817392291840 2016-02-17 03:45:29   \n",
       "\n",
       "                                                 source  \\\n",
       "1386  <a href=\"http://twitter.com/download/iphone\" r...   \n",
       "1395  <a href=\"http://twitter.com/download/iphone\" r...   \n",
       "\n",
       "                                                   text  \\\n",
       "1386  This is Vincent. He's the man your girl is wit...   \n",
       "1395  This is Cooper. He began to tear up when his b...   \n",
       "\n",
       "                                          expanded_urls  rating_numerator  \\\n",
       "1386  https://twitter.com/dog_rates/status/700518061...                10   \n",
       "1395  https://twitter.com/dog_rates/status/699801817...                11   \n",
       "\n",
       "      rating_denominator     name doggo floofer  pupper puppo  \n",
       "1386                  10  Vincent  None    None    None  None  \n",
       "1395                  10   Cooper  None    None  pupper  None  "
      ]
     },
     "execution_count": 139,
     "metadata": {},
     "output_type": "execute_result"
    }
   ],
   "source": [
    "twitter_archived_clean.sample(2)"
   ]
  },
  {
   "cell_type": "markdown",
   "id": "7f9fe70c",
   "metadata": {},
   "source": [
    "#### 3) `Invalid names` like \"a\" in the name column."
   ]
  },
  {
   "cell_type": "markdown",
   "id": "64cc9862",
   "metadata": {},
   "source": [
    "##### Define\n",
    "We'll remove all the rows containing \"a\" as their `name` in the `twitter_archived_clean` frame. Hence, removing invalid data."
   ]
  },
  {
   "cell_type": "markdown",
   "id": "47d07b37",
   "metadata": {},
   "source": [
    "##### Code"
   ]
  },
  {
   "cell_type": "code",
   "execution_count": 140,
   "id": "6ef962e5",
   "metadata": {},
   "outputs": [
    {
     "data": {
      "text/plain": [
       "55"
      ]
     },
     "execution_count": 140,
     "metadata": {},
     "output_type": "execute_result"
    }
   ],
   "source": [
    "len(twitter_archived_clean[twitter_archived_clean['name']==\"a\"])"
   ]
  },
  {
   "cell_type": "code",
   "execution_count": 141,
   "id": "b2d6ba2d",
   "metadata": {},
   "outputs": [],
   "source": [
    "twitter_archived_clean = twitter_archived_clean[twitter_archived_clean.name != 'a']"
   ]
  },
  {
   "cell_type": "markdown",
   "id": "27d127f6",
   "metadata": {},
   "source": [
    "##### Test"
   ]
  },
  {
   "cell_type": "code",
   "execution_count": 142,
   "id": "379fed3b",
   "metadata": {},
   "outputs": [
    {
     "data": {
      "text/plain": [
       "0"
      ]
     },
     "execution_count": 142,
     "metadata": {},
     "output_type": "execute_result"
    }
   ],
   "source": [
    "len(twitter_archived_clean[twitter_archived_clean['name']==\"a\"])"
   ]
  },
  {
   "cell_type": "markdown",
   "id": "9bf31f32",
   "metadata": {},
   "source": [
    "#### 4) Unnecessary extra columns `(doggo - puppo)` which can be displayed in one column and Remove doggo-puppo columns from twitter_archived_clean and change the datatype of dog_type to category"
   ]
  },
  {
   "cell_type": "markdown",
   "id": "4cbd0f2b",
   "metadata": {},
   "source": [
    "##### Define\n",
    "Melt the doggo-puppo columns columns to a dog_types column, then drop the value column and change the datatype of dog_types by using astype()"
   ]
  },
  {
   "cell_type": "markdown",
   "id": "9456bd7f",
   "metadata": {},
   "source": [
    "##### Code"
   ]
  },
  {
   "cell_type": "code",
   "execution_count": 143,
   "id": "eb39bf38",
   "metadata": {},
   "outputs": [],
   "source": [
    "twitter_archived_clean.floofer = twitter_archived_clean.floofer.replace('None',np.nan)"
   ]
  },
  {
   "cell_type": "code",
   "execution_count": 144,
   "id": "7c2b870c",
   "metadata": {},
   "outputs": [],
   "source": [
    "twitter_archived_clean.doggo = twitter_archived_clean.doggo.replace('None',np.nan)\n",
    "twitter_archived_clean.pupper = twitter_archived_clean.pupper.replace('None',np.nan)\n",
    "twitter_archived_clean.puppo = twitter_archived_clean.puppo.replace('None',np.nan)"
   ]
  },
  {
   "cell_type": "code",
   "execution_count": 145,
   "id": "4f65de09",
   "metadata": {},
   "outputs": [
    {
     "name": "stdout",
     "output_type": "stream",
     "text": [
      "<class 'pandas.core.frame.DataFrame'>\n",
      "Int64Index: 2042 entries, 0 to 2355\n",
      "Data columns (total 12 columns):\n",
      " #   Column              Non-Null Count  Dtype         \n",
      "---  ------              --------------  -----         \n",
      " 0   tweet_id            2042 non-null   int64         \n",
      " 1   timestamp           2042 non-null   datetime64[ns]\n",
      " 2   source              2042 non-null   object        \n",
      " 3   text                2042 non-null   object        \n",
      " 4   expanded_urls       2039 non-null   object        \n",
      " 5   rating_numerator    2042 non-null   int64         \n",
      " 6   rating_denominator  2042 non-null   int64         \n",
      " 7   name                2042 non-null   object        \n",
      " 8   doggo               83 non-null     object        \n",
      " 9   floofer             10 non-null     object        \n",
      " 10  pupper              226 non-null    object        \n",
      " 11  puppo               24 non-null     object        \n",
      "dtypes: datetime64[ns](1), int64(3), object(8)\n",
      "memory usage: 207.4+ KB\n"
     ]
    }
   ],
   "source": [
    "twitter_archived_clean.info()"
   ]
  },
  {
   "cell_type": "code",
   "execution_count": 146,
   "id": "1080687f",
   "metadata": {},
   "outputs": [],
   "source": [
    "twitter_archived_clean['dog_stages'] = twitter_archived_clean.text.str.extract('(doggo|floofer|pupper|puppo)', expand = True)"
   ]
  },
  {
   "cell_type": "code",
   "execution_count": 147,
   "id": "ff4aadd7",
   "metadata": {},
   "outputs": [],
   "source": [
    "twitter_archived_clean.drop(['doggo','floofer','pupper','puppo'], axis=1, inplace = True)"
   ]
  },
  {
   "cell_type": "code",
   "execution_count": 148,
   "id": "a79977eb",
   "metadata": {},
   "outputs": [],
   "source": [
    "twitter_archived_clean.dog_stages = twitter_archived_clean.dog_stages.astype('category')"
   ]
  },
  {
   "cell_type": "markdown",
   "id": "5ea6a47d",
   "metadata": {},
   "source": [
    "##### Test"
   ]
  },
  {
   "cell_type": "code",
   "execution_count": 149,
   "id": "58a01789",
   "metadata": {},
   "outputs": [
    {
     "data": {
      "text/plain": [
       "pupper     236\n",
       "doggo       80\n",
       "puppo       29\n",
       "floofer      4\n",
       "Name: dog_stages, dtype: int64"
      ]
     },
     "execution_count": 149,
     "metadata": {},
     "output_type": "execute_result"
    }
   ],
   "source": [
    "twitter_archived_clean.dog_stages.value_counts()"
   ]
  },
  {
   "cell_type": "code",
   "execution_count": 150,
   "id": "824fb636",
   "metadata": {},
   "outputs": [
    {
     "data": {
      "text/plain": [
       "CategoricalDtype(categories=['doggo', 'floofer', 'pupper', 'puppo'], ordered=False)"
      ]
     },
     "execution_count": 150,
     "metadata": {},
     "output_type": "execute_result"
    }
   ],
   "source": [
    "twitter_archived_clean.dog_stages.dtypes"
   ]
  },
  {
   "cell_type": "code",
   "execution_count": 151,
   "id": "3df2ddc8",
   "metadata": {},
   "outputs": [
    {
     "name": "stdout",
     "output_type": "stream",
     "text": [
      "<class 'pandas.core.frame.DataFrame'>\n",
      "Int64Index: 2042 entries, 0 to 2355\n",
      "Data columns (total 9 columns):\n",
      " #   Column              Non-Null Count  Dtype         \n",
      "---  ------              --------------  -----         \n",
      " 0   tweet_id            2042 non-null   int64         \n",
      " 1   timestamp           2042 non-null   datetime64[ns]\n",
      " 2   source              2042 non-null   object        \n",
      " 3   text                2042 non-null   object        \n",
      " 4   expanded_urls       2039 non-null   object        \n",
      " 5   rating_numerator    2042 non-null   int64         \n",
      " 6   rating_denominator  2042 non-null   int64         \n",
      " 7   name                2042 non-null   object        \n",
      " 8   dog_stages          349 non-null    category      \n",
      "dtypes: category(1), datetime64[ns](1), int64(3), object(4)\n",
      "memory usage: 145.8+ KB\n"
     ]
    }
   ],
   "source": [
    "twitter_archived_clean.info()"
   ]
  },
  {
   "cell_type": "markdown",
   "id": "93410ee9",
   "metadata": {},
   "source": [
    "#### 4)  Denominator should be set to 10 but we can observe numbers like 40,120,150,2,etc."
   ]
  },
  {
   "cell_type": "markdown",
   "id": "338aeaf8",
   "metadata": {},
   "source": [
    "##### Define\n",
    "We kept only the rows containing 10 as their rating denominator."
   ]
  },
  {
   "cell_type": "markdown",
   "id": "a3261253",
   "metadata": {},
   "source": [
    "##### Code"
   ]
  },
  {
   "cell_type": "code",
   "execution_count": 152,
   "id": "1776f748",
   "metadata": {},
   "outputs": [],
   "source": [
    "twitter_archived_clean = twitter_archived_clean[twitter_archived_clean['rating_denominator']== 10]"
   ]
  },
  {
   "cell_type": "markdown",
   "id": "b7f6655d",
   "metadata": {},
   "source": [
    "##### Test"
   ]
  },
  {
   "cell_type": "code",
   "execution_count": 153,
   "id": "53f2b29f",
   "metadata": {},
   "outputs": [
    {
     "data": {
      "text/html": [
       "<div>\n",
       "<style scoped>\n",
       "    .dataframe tbody tr th:only-of-type {\n",
       "        vertical-align: middle;\n",
       "    }\n",
       "\n",
       "    .dataframe tbody tr th {\n",
       "        vertical-align: top;\n",
       "    }\n",
       "\n",
       "    .dataframe thead th {\n",
       "        text-align: right;\n",
       "    }\n",
       "</style>\n",
       "<table border=\"1\" class=\"dataframe\">\n",
       "  <thead>\n",
       "    <tr style=\"text-align: right;\">\n",
       "      <th></th>\n",
       "      <th>tweet_id</th>\n",
       "      <th>timestamp</th>\n",
       "      <th>source</th>\n",
       "      <th>text</th>\n",
       "      <th>expanded_urls</th>\n",
       "      <th>rating_numerator</th>\n",
       "      <th>rating_denominator</th>\n",
       "      <th>name</th>\n",
       "      <th>dog_stages</th>\n",
       "    </tr>\n",
       "  </thead>\n",
       "  <tbody>\n",
       "  </tbody>\n",
       "</table>\n",
       "</div>"
      ],
      "text/plain": [
       "Empty DataFrame\n",
       "Columns: [tweet_id, timestamp, source, text, expanded_urls, rating_numerator, rating_denominator, name, dog_stages]\n",
       "Index: []"
      ]
     },
     "execution_count": 153,
     "metadata": {},
     "output_type": "execute_result"
    }
   ],
   "source": [
    "twitter_archived_clean[twitter_archived_clean['rating_denominator']!= 10]"
   ]
  },
  {
   "cell_type": "markdown",
   "id": "7f42aae5",
   "metadata": {},
   "source": [
    "#### 5) `p1_dog, p2_dog, p3_dog` = = False, these tuples can be deleted as they predict the image is not a dog "
   ]
  },
  {
   "cell_type": "markdown",
   "id": "a47dc4ea",
   "metadata": {},
   "source": [
    "##### Define\n",
    "We used query to find the rows satisfying (p1_dog, p2_dog, p3_dog == False) condition then dropped them."
   ]
  },
  {
   "cell_type": "markdown",
   "id": "46bdad63",
   "metadata": {},
   "source": [
    "##### Code"
   ]
  },
  {
   "cell_type": "code",
   "execution_count": 154,
   "id": "2cfc802d",
   "metadata": {},
   "outputs": [],
   "source": [
    "image_pred_clean.drop(index=list(image_pred_clean.query(\"p1_dog==False and p2_dog==False and p3_dog == False\").index),inplace=True)"
   ]
  },
  {
   "cell_type": "markdown",
   "id": "f8fe157e",
   "metadata": {},
   "source": [
    "##### Test"
   ]
  },
  {
   "cell_type": "code",
   "execution_count": 155,
   "id": "e2e9122f",
   "metadata": {},
   "outputs": [
    {
     "data": {
      "text/html": [
       "<div>\n",
       "<style scoped>\n",
       "    .dataframe tbody tr th:only-of-type {\n",
       "        vertical-align: middle;\n",
       "    }\n",
       "\n",
       "    .dataframe tbody tr th {\n",
       "        vertical-align: top;\n",
       "    }\n",
       "\n",
       "    .dataframe thead th {\n",
       "        text-align: right;\n",
       "    }\n",
       "</style>\n",
       "<table border=\"1\" class=\"dataframe\">\n",
       "  <thead>\n",
       "    <tr style=\"text-align: right;\">\n",
       "      <th></th>\n",
       "      <th>tweet_id</th>\n",
       "      <th>jpg_url</th>\n",
       "      <th>img_num</th>\n",
       "      <th>p1</th>\n",
       "      <th>p1_conf</th>\n",
       "      <th>p1_dog</th>\n",
       "      <th>p2</th>\n",
       "      <th>p2_conf</th>\n",
       "      <th>p2_dog</th>\n",
       "      <th>p3</th>\n",
       "      <th>p3_conf</th>\n",
       "      <th>p3_dog</th>\n",
       "    </tr>\n",
       "  </thead>\n",
       "  <tbody>\n",
       "  </tbody>\n",
       "</table>\n",
       "</div>"
      ],
      "text/plain": [
       "Empty DataFrame\n",
       "Columns: [tweet_id, jpg_url, img_num, p1, p1_conf, p1_dog, p2, p2_conf, p2_dog, p3, p3_conf, p3_dog]\n",
       "Index: []"
      ]
     },
     "execution_count": 155,
     "metadata": {},
     "output_type": "execute_result"
    }
   ],
   "source": [
    "image_pred_clean.query(\"p1_dog==False and p2_dog==False and p3_dog == False\")"
   ]
  },
  {
   "cell_type": "code",
   "execution_count": 156,
   "id": "4771b079",
   "metadata": {},
   "outputs": [
    {
     "name": "stdout",
     "output_type": "stream",
     "text": [
      "<class 'pandas.core.frame.DataFrame'>\n",
      "Int64Index: 1751 entries, 0 to 2073\n",
      "Data columns (total 12 columns):\n",
      " #   Column    Non-Null Count  Dtype  \n",
      "---  ------    --------------  -----  \n",
      " 0   tweet_id  1751 non-null   int64  \n",
      " 1   jpg_url   1751 non-null   object \n",
      " 2   img_num   1751 non-null   int64  \n",
      " 3   p1        1751 non-null   object \n",
      " 4   p1_conf   1751 non-null   float64\n",
      " 5   p1_dog    1751 non-null   bool   \n",
      " 6   p2        1751 non-null   object \n",
      " 7   p2_conf   1751 non-null   float64\n",
      " 8   p2_dog    1751 non-null   bool   \n",
      " 9   p3        1751 non-null   object \n",
      " 10  p3_conf   1751 non-null   float64\n",
      " 11  p3_dog    1751 non-null   bool   \n",
      "dtypes: bool(3), float64(3), int64(2), object(4)\n",
      "memory usage: 141.9+ KB\n"
     ]
    }
   ],
   "source": [
    "image_pred_clean.info()"
   ]
  },
  {
   "cell_type": "markdown",
   "id": "35476c16",
   "metadata": {},
   "source": [
    "#### 6) Create a column for prediction of the dog's breed"
   ]
  },
  {
   "cell_type": "markdown",
   "id": "e03f4a43",
   "metadata": {},
   "source": [
    "#### Define\n",
    "create a column dog_breeds where we use np.where()"
   ]
  },
  {
   "cell_type": "markdown",
   "id": "f519359a",
   "metadata": {},
   "source": [
    "##### Code"
   ]
  },
  {
   "cell_type": "code",
   "execution_count": 157,
   "id": "c8996eff",
   "metadata": {},
   "outputs": [],
   "source": [
    "import numpy as np"
   ]
  },
  {
   "cell_type": "code",
   "execution_count": 158,
   "id": "3bf1c55a",
   "metadata": {},
   "outputs": [],
   "source": [
    "image_pred_clean['dog_breeds'] = np.where(image_pred_clean['p1_dog'],image_pred_clean['p1'],\n",
    "                                         np.where(image_pred_clean['p2_dog'],image_pred_clean['p2'],\n",
    "                                                 np.where(image_pred_clean['p3_dog'],image_pred_clean['p3'],np.nan)))"
   ]
  },
  {
   "cell_type": "code",
   "execution_count": 159,
   "id": "8b125d52",
   "metadata": {},
   "outputs": [],
   "source": [
    "columns = ['p1_dog','p2_dog','p3_dog','p1','p2','p3']\n",
    "image_pred_clean = image_pred_clean.drop(columns,axis = 1)"
   ]
  },
  {
   "cell_type": "markdown",
   "id": "75001f17",
   "metadata": {},
   "source": [
    "##### Test"
   ]
  },
  {
   "cell_type": "markdown",
   "id": "a5e4ec3c",
   "metadata": {},
   "source": [
    "### <u>Our Predictions are coming right!!!</u>\n",
    "- predicted dog breed = golden_retriever \n",
    "- actual dog breed = golden_retriever"
   ]
  },
  {
   "cell_type": "code",
   "execution_count": 193,
   "id": "16547e43",
   "metadata": {},
   "outputs": [
    {
     "data": {
      "text/html": [
       "<div>\n",
       "<style scoped>\n",
       "    .dataframe tbody tr th:only-of-type {\n",
       "        vertical-align: middle;\n",
       "    }\n",
       "\n",
       "    .dataframe tbody tr th {\n",
       "        vertical-align: top;\n",
       "    }\n",
       "\n",
       "    .dataframe thead th {\n",
       "        text-align: right;\n",
       "    }\n",
       "</style>\n",
       "<table border=\"1\" class=\"dataframe\">\n",
       "  <thead>\n",
       "    <tr style=\"text-align: right;\">\n",
       "      <th></th>\n",
       "      <th>tweet_id</th>\n",
       "      <th>jpg_url</th>\n",
       "      <th>img_num</th>\n",
       "      <th>p1_conf</th>\n",
       "      <th>p2_conf</th>\n",
       "      <th>p3_conf</th>\n",
       "      <th>dog_breeds</th>\n",
       "    </tr>\n",
       "  </thead>\n",
       "  <tbody>\n",
       "    <tr>\n",
       "      <th>1348</th>\n",
       "      <td>759557299618865152</td>\n",
       "      <td>https://pbs.twimg.com/media/Cop9VVUXgAAhX9u.jpg</td>\n",
       "      <td>2</td>\n",
       "      <td>0.763333</td>\n",
       "      <td>0.194251</td>\n",
       "      <td>0.012225</td>\n",
       "      <td>golden_retriever</td>\n",
       "    </tr>\n",
       "  </tbody>\n",
       "</table>\n",
       "</div>"
      ],
      "text/plain": [
       "                tweet_id                                          jpg_url  \\\n",
       "1348  759557299618865152  https://pbs.twimg.com/media/Cop9VVUXgAAhX9u.jpg   \n",
       "\n",
       "     img_num   p1_conf   p2_conf   p3_conf        dog_breeds  \n",
       "1348       2  0.763333  0.194251  0.012225  golden_retriever  "
      ]
     },
     "execution_count": 193,
     "metadata": {},
     "output_type": "execute_result"
    }
   ],
   "source": [
    "image_pred_clean.sample()"
   ]
  },
  {
   "cell_type": "code",
   "execution_count": 194,
   "id": "4102b8c2",
   "metadata": {},
   "outputs": [
    {
     "data": {
      "image/jpeg": "[encoded data removed]",
      "text/plain": [
       "<IPython.core.display.Image object>"
      ]
     },
     "execution_count": 194,
     "metadata": {
      "image/jpeg": {
       "height": 300,
       "width": 500
      }
     },
     "output_type": "execute_result"
    }
   ],
   "source": [
    "from IPython import display\n",
    "display.Image(\"https://pbs.twimg.com/media/Cop9VVUXgAAhX9u.jpg\",width=500,height =300)"
   ]
  },
  {
   "cell_type": "code",
   "execution_count": 162,
   "id": "2949a2c6",
   "metadata": {},
   "outputs": [
    {
     "data": {
      "text/plain": [
       "golden_retriever        173\n",
       "Labrador_retriever      113\n",
       "Pembroke                 96\n",
       "Chihuahua                95\n",
       "pug                      65\n",
       "                       ... \n",
       "Scotch_terrier            1\n",
       "EntleBucher               1\n",
       "Japanese_spaniel          1\n",
       "standard_schnauzer        1\n",
       "Bouvier_des_Flandres      1\n",
       "Name: dog_breeds, Length: 113, dtype: int64"
      ]
     },
     "execution_count": 162,
     "metadata": {},
     "output_type": "execute_result"
    }
   ],
   "source": [
    "image_pred_clean['dog_breeds'].value_counts()"
   ]
  },
  {
   "cell_type": "code",
   "execution_count": 163,
   "id": "b2ef54c2",
   "metadata": {},
   "outputs": [
    {
     "name": "stdout",
     "output_type": "stream",
     "text": [
      "<class 'pandas.core.frame.DataFrame'>\n",
      "Int64Index: 1751 entries, 0 to 2073\n",
      "Data columns (total 7 columns):\n",
      " #   Column      Non-Null Count  Dtype  \n",
      "---  ------      --------------  -----  \n",
      " 0   tweet_id    1751 non-null   int64  \n",
      " 1   jpg_url     1751 non-null   object \n",
      " 2   img_num     1751 non-null   int64  \n",
      " 3   p1_conf     1751 non-null   float64\n",
      " 4   p2_conf     1751 non-null   float64\n",
      " 5   p3_conf     1751 non-null   float64\n",
      " 6   dog_breeds  1751 non-null   object \n",
      "dtypes: float64(3), int64(2), object(2)\n",
      "memory usage: 109.4+ KB\n"
     ]
    }
   ],
   "source": [
    "image_pred_clean.info()"
   ]
  },
  {
   "cell_type": "markdown",
   "id": "bd22f758",
   "metadata": {},
   "source": [
    "#### 7) `img_num` should be in category datatype."
   ]
  },
  {
   "cell_type": "markdown",
   "id": "68e53259",
   "metadata": {},
   "source": [
    "##### Define\n",
    "Convert img_num to categorical data type."
   ]
  },
  {
   "cell_type": "markdown",
   "id": "8879bd8c",
   "metadata": {},
   "source": [
    "##### Code"
   ]
  },
  {
   "cell_type": "code",
   "execution_count": 164,
   "id": "3106b3a6",
   "metadata": {},
   "outputs": [],
   "source": [
    "image_pred_clean.img_num =image_pred_clean.img_num.astype('category')"
   ]
  },
  {
   "cell_type": "markdown",
   "id": "4e2163e2",
   "metadata": {},
   "source": [
    "##### Test"
   ]
  },
  {
   "cell_type": "code",
   "execution_count": 165,
   "id": "741d6b84",
   "metadata": {},
   "outputs": [
    {
     "data": {
      "text/plain": [
       "CategoricalDtype(categories=[1, 2, 3, 4], ordered=False)"
      ]
     },
     "execution_count": 165,
     "metadata": {},
     "output_type": "execute_result"
    }
   ],
   "source": [
    "image_pred_clean.img_num.dtypes"
   ]
  },
  {
   "cell_type": "code",
   "execution_count": 166,
   "id": "494b2fc3",
   "metadata": {},
   "outputs": [
    {
     "name": "stdout",
     "output_type": "stream",
     "text": [
      "<class 'pandas.core.frame.DataFrame'>\n",
      "RangeIndex: 2354 entries, 0 to 2353\n",
      "Data columns (total 3 columns):\n",
      " #   Column          Non-Null Count  Dtype\n",
      "---  ------          --------------  -----\n",
      " 0   tweet_id        2354 non-null   int64\n",
      " 1   favorite_count  2354 non-null   int64\n",
      " 2   retweet_count   2354 non-null   int64\n",
      "dtypes: int64(3)\n",
      "memory usage: 55.3 KB\n"
     ]
    }
   ],
   "source": [
    "tweet_json_clean.info()"
   ]
  },
  {
   "cell_type": "code",
   "execution_count": 167,
   "id": "64407f15",
   "metadata": {},
   "outputs": [
    {
     "data": {
      "text/html": [
       "<div>\n",
       "<style scoped>\n",
       "    .dataframe tbody tr th:only-of-type {\n",
       "        vertical-align: middle;\n",
       "    }\n",
       "\n",
       "    .dataframe tbody tr th {\n",
       "        vertical-align: top;\n",
       "    }\n",
       "\n",
       "    .dataframe thead th {\n",
       "        text-align: right;\n",
       "    }\n",
       "</style>\n",
       "<table border=\"1\" class=\"dataframe\">\n",
       "  <thead>\n",
       "    <tr style=\"text-align: right;\">\n",
       "      <th></th>\n",
       "      <th>tweet_id</th>\n",
       "      <th>jpg_url</th>\n",
       "      <th>img_num</th>\n",
       "      <th>p1_conf</th>\n",
       "      <th>p2_conf</th>\n",
       "      <th>p3_conf</th>\n",
       "      <th>dog_breeds</th>\n",
       "    </tr>\n",
       "  </thead>\n",
       "  <tbody>\n",
       "  </tbody>\n",
       "</table>\n",
       "</div>"
      ],
      "text/plain": [
       "Empty DataFrame\n",
       "Columns: [tweet_id, jpg_url, img_num, p1_conf, p2_conf, p3_conf, dog_breeds]\n",
       "Index: []"
      ]
     },
     "execution_count": 167,
     "metadata": {},
     "output_type": "execute_result"
    }
   ],
   "source": [
    "image_pred_clean[image_pred_clean['tweet_id'] == '666020888022790149']"
   ]
  },
  {
   "cell_type": "code",
   "execution_count": 168,
   "id": "81f02709",
   "metadata": {},
   "outputs": [
    {
     "data": {
      "text/html": [
       "<div>\n",
       "<style scoped>\n",
       "    .dataframe tbody tr th:only-of-type {\n",
       "        vertical-align: middle;\n",
       "    }\n",
       "\n",
       "    .dataframe tbody tr th {\n",
       "        vertical-align: top;\n",
       "    }\n",
       "\n",
       "    .dataframe thead th {\n",
       "        text-align: right;\n",
       "    }\n",
       "</style>\n",
       "<table border=\"1\" class=\"dataframe\">\n",
       "  <thead>\n",
       "    <tr style=\"text-align: right;\">\n",
       "      <th></th>\n",
       "      <th>tweet_id</th>\n",
       "      <th>favorite_count</th>\n",
       "      <th>retweet_count</th>\n",
       "    </tr>\n",
       "  </thead>\n",
       "  <tbody>\n",
       "    <tr>\n",
       "      <th>0</th>\n",
       "      <td>892420643555336193</td>\n",
       "      <td>39467</td>\n",
       "      <td>8853</td>\n",
       "    </tr>\n",
       "    <tr>\n",
       "      <th>1</th>\n",
       "      <td>892177421306343426</td>\n",
       "      <td>33819</td>\n",
       "      <td>6514</td>\n",
       "    </tr>\n",
       "    <tr>\n",
       "      <th>2</th>\n",
       "      <td>891815181378084864</td>\n",
       "      <td>25461</td>\n",
       "      <td>4328</td>\n",
       "    </tr>\n",
       "    <tr>\n",
       "      <th>3</th>\n",
       "      <td>891689557279858688</td>\n",
       "      <td>42908</td>\n",
       "      <td>8964</td>\n",
       "    </tr>\n",
       "    <tr>\n",
       "      <th>4</th>\n",
       "      <td>891327558926688256</td>\n",
       "      <td>41048</td>\n",
       "      <td>9774</td>\n",
       "    </tr>\n",
       "    <tr>\n",
       "      <th>...</th>\n",
       "      <td>...</td>\n",
       "      <td>...</td>\n",
       "      <td>...</td>\n",
       "    </tr>\n",
       "    <tr>\n",
       "      <th>2349</th>\n",
       "      <td>666049248165822465</td>\n",
       "      <td>111</td>\n",
       "      <td>41</td>\n",
       "    </tr>\n",
       "    <tr>\n",
       "      <th>2350</th>\n",
       "      <td>666044226329800704</td>\n",
       "      <td>311</td>\n",
       "      <td>147</td>\n",
       "    </tr>\n",
       "    <tr>\n",
       "      <th>2351</th>\n",
       "      <td>666033412701032449</td>\n",
       "      <td>128</td>\n",
       "      <td>47</td>\n",
       "    </tr>\n",
       "    <tr>\n",
       "      <th>2352</th>\n",
       "      <td>666029285002620928</td>\n",
       "      <td>132</td>\n",
       "      <td>48</td>\n",
       "    </tr>\n",
       "    <tr>\n",
       "      <th>2353</th>\n",
       "      <td>666020888022790149</td>\n",
       "      <td>2535</td>\n",
       "      <td>532</td>\n",
       "    </tr>\n",
       "  </tbody>\n",
       "</table>\n",
       "<p>2354 rows × 3 columns</p>\n",
       "</div>"
      ],
      "text/plain": [
       "                tweet_id  favorite_count  retweet_count\n",
       "0     892420643555336193           39467           8853\n",
       "1     892177421306343426           33819           6514\n",
       "2     891815181378084864           25461           4328\n",
       "3     891689557279858688           42908           8964\n",
       "4     891327558926688256           41048           9774\n",
       "...                  ...             ...            ...\n",
       "2349  666049248165822465             111             41\n",
       "2350  666044226329800704             311            147\n",
       "2351  666033412701032449             128             47\n",
       "2352  666029285002620928             132             48\n",
       "2353  666020888022790149            2535            532\n",
       "\n",
       "[2354 rows x 3 columns]"
      ]
     },
     "execution_count": 168,
     "metadata": {},
     "output_type": "execute_result"
    }
   ],
   "source": [
    "tweet_json_clean"
   ]
  },
  {
   "cell_type": "markdown",
   "id": "1703cdc9",
   "metadata": {},
   "source": [
    "#### 8) Merge all dataframes"
   ]
  },
  {
   "cell_type": "markdown",
   "id": "9a9709a5",
   "metadata": {},
   "source": [
    "##### Define\n",
    "use the merge method to merge the datasets and drop the rows having jpg_url as null."
   ]
  },
  {
   "cell_type": "markdown",
   "id": "4cb9cfb5",
   "metadata": {},
   "source": [
    "##### Code"
   ]
  },
  {
   "cell_type": "code",
   "execution_count": 169,
   "id": "67913358",
   "metadata": {},
   "outputs": [],
   "source": [
    "image_pred_clean.tweet_id = image_pred_clean.tweet_id.astype('str')\n",
    "twitter_archived_clean.tweet_id = twitter_archived_clean.tweet_id.astype('str')\n",
    "tweet_json_clean.tweet_id = tweet_json_clean.tweet_id.astype('str')"
   ]
  },
  {
   "cell_type": "code",
   "execution_count": 170,
   "id": "669f9d76",
   "metadata": {},
   "outputs": [],
   "source": [
    "merged = twitter_archived_clean.merge(image_pred_clean, on = 'tweet_id', how = 'left')\n",
    "merged_final = merged.merge(tweet_json_clean, on = 'tweet_id', how = 'left')"
   ]
  },
  {
   "cell_type": "code",
   "execution_count": 171,
   "id": "66999f70",
   "metadata": {},
   "outputs": [],
   "source": [
    "merged_final = merged_final[merged_final.jpg_url.isnull() == False]"
   ]
  },
  {
   "cell_type": "markdown",
   "id": "5fe49ff8",
   "metadata": {},
   "source": [
    "##### Test"
   ]
  },
  {
   "cell_type": "code",
   "execution_count": 172,
   "id": "c9c3d1e5",
   "metadata": {},
   "outputs": [
    {
     "name": "stdout",
     "output_type": "stream",
     "text": [
      "<class 'pandas.core.frame.DataFrame'>\n",
      "Int64Index: 1605 entries, 1 to 2025\n",
      "Data columns (total 17 columns):\n",
      " #   Column              Non-Null Count  Dtype         \n",
      "---  ------              --------------  -----         \n",
      " 0   tweet_id            1605 non-null   object        \n",
      " 1   timestamp           1605 non-null   datetime64[ns]\n",
      " 2   source              1605 non-null   object        \n",
      " 3   text                1605 non-null   object        \n",
      " 4   expanded_urls       1605 non-null   object        \n",
      " 5   rating_numerator    1605 non-null   int64         \n",
      " 6   rating_denominator  1605 non-null   int64         \n",
      " 7   name                1605 non-null   object        \n",
      " 8   dog_stages          262 non-null    category      \n",
      " 9   jpg_url             1605 non-null   object        \n",
      " 10  img_num             1605 non-null   category      \n",
      " 11  p1_conf             1605 non-null   float64       \n",
      " 12  p2_conf             1605 non-null   float64       \n",
      " 13  p3_conf             1605 non-null   float64       \n",
      " 14  dog_breeds          1605 non-null   object        \n",
      " 15  favorite_count      1605 non-null   int64         \n",
      " 16  retweet_count       1605 non-null   int64         \n",
      "dtypes: category(2), datetime64[ns](1), float64(3), int64(4), object(7)\n",
      "memory usage: 204.2+ KB\n"
     ]
    }
   ],
   "source": [
    "merged_final.info()"
   ]
  },
  {
   "cell_type": "markdown",
   "id": "d1bee189",
   "metadata": {},
   "source": [
    "#### 9) tweet_id should be in string instead of int"
   ]
  },
  {
   "cell_type": "markdown",
   "id": "5f0d72eb",
   "metadata": {},
   "source": [
    "##### Define\n",
    "Change int to categorical variable"
   ]
  },
  {
   "cell_type": "markdown",
   "id": "78c4165f",
   "metadata": {},
   "source": [
    "##### Code"
   ]
  },
  {
   "cell_type": "code",
   "execution_count": 173,
   "id": "29e344e4",
   "metadata": {},
   "outputs": [],
   "source": [
    "merged_final.tweet_id = merged_final.tweet_id.astype('str')"
   ]
  },
  {
   "cell_type": "markdown",
   "id": "7d11a929",
   "metadata": {},
   "source": [
    "##### Test"
   ]
  },
  {
   "cell_type": "code",
   "execution_count": 174,
   "id": "9c3cf887",
   "metadata": {},
   "outputs": [
    {
     "data": {
      "text/plain": [
       "dtype('O')"
      ]
     },
     "execution_count": 174,
     "metadata": {},
     "output_type": "execute_result"
    }
   ],
   "source": [
    "merged_final.tweet_id.dtype"
   ]
  },
  {
   "cell_type": "markdown",
   "id": "b65e2678",
   "metadata": {},
   "source": [
    "### Storing Data"
   ]
  },
  {
   "cell_type": "code",
   "execution_count": 175,
   "id": "2604be6c",
   "metadata": {},
   "outputs": [],
   "source": [
    "merged_final.to_csv('twitter_archive_master.csv',index = False)"
   ]
  },
  {
   "cell_type": "markdown",
   "id": "7dda870a",
   "metadata": {},
   "source": [
    "## Analyzing and Visualizing Data"
   ]
  },
  {
   "cell_type": "code",
   "execution_count": 176,
   "id": "7d942b47",
   "metadata": {},
   "outputs": [],
   "source": [
    "import seaborn as sns\n",
    "import matplotlib.pyplot as plt\n"
   ]
  },
  {
   "cell_type": "code",
   "execution_count": 177,
   "id": "5a788a12",
   "metadata": {},
   "outputs": [],
   "source": [
    "df = pd.read_csv('twitter_archive_master.csv')"
   ]
  },
  {
   "cell_type": "code",
   "execution_count": 178,
   "id": "c6b84c0a",
   "metadata": {},
   "outputs": [
    {
     "data": {
      "text/html": [
       "<div>\n",
       "<style scoped>\n",
       "    .dataframe tbody tr th:only-of-type {\n",
       "        vertical-align: middle;\n",
       "    }\n",
       "\n",
       "    .dataframe tbody tr th {\n",
       "        vertical-align: top;\n",
       "    }\n",
       "\n",
       "    .dataframe thead th {\n",
       "        text-align: right;\n",
       "    }\n",
       "</style>\n",
       "<table border=\"1\" class=\"dataframe\">\n",
       "  <thead>\n",
       "    <tr style=\"text-align: right;\">\n",
       "      <th></th>\n",
       "      <th>tweet_id</th>\n",
       "      <th>timestamp</th>\n",
       "      <th>source</th>\n",
       "      <th>text</th>\n",
       "      <th>expanded_urls</th>\n",
       "      <th>rating_numerator</th>\n",
       "      <th>rating_denominator</th>\n",
       "      <th>name</th>\n",
       "      <th>dog_stages</th>\n",
       "      <th>jpg_url</th>\n",
       "      <th>img_num</th>\n",
       "      <th>p1_conf</th>\n",
       "      <th>p2_conf</th>\n",
       "      <th>p3_conf</th>\n",
       "      <th>dog_breeds</th>\n",
       "      <th>favorite_count</th>\n",
       "      <th>retweet_count</th>\n",
       "    </tr>\n",
       "  </thead>\n",
       "  <tbody>\n",
       "    <tr>\n",
       "      <th>887</th>\n",
       "      <td>706538006853918722</td>\n",
       "      <td>2016-03-06 17:52:42</td>\n",
       "      <td>&lt;a href=\"http://twitter.com/download/iphone\" r...</td>\n",
       "      <td>This is Oliver (pronounced \"Ricardo\"). He's a ...</td>\n",
       "      <td>https://twitter.com/dog_rates/status/706538006...</td>\n",
       "      <td>11</td>\n",
       "      <td>10</td>\n",
       "      <td>Oliver</td>\n",
       "      <td>NaN</td>\n",
       "      <td>https://pbs.twimg.com/media/Cc4gjxqW4AIoThO.jpg</td>\n",
       "      <td>1</td>\n",
       "      <td>0.541794</td>\n",
       "      <td>0.094918</td>\n",
       "      <td>0.085439</td>\n",
       "      <td>chow</td>\n",
       "      <td>3778</td>\n",
       "      <td>1580</td>\n",
       "    </tr>\n",
       "  </tbody>\n",
       "</table>\n",
       "</div>"
      ],
      "text/plain": [
       "               tweet_id            timestamp  \\\n",
       "887  706538006853918722  2016-03-06 17:52:42   \n",
       "\n",
       "                                                source  \\\n",
       "887  <a href=\"http://twitter.com/download/iphone\" r...   \n",
       "\n",
       "                                                  text  \\\n",
       "887  This is Oliver (pronounced \"Ricardo\"). He's a ...   \n",
       "\n",
       "                                         expanded_urls  rating_numerator  \\\n",
       "887  https://twitter.com/dog_rates/status/706538006...                11   \n",
       "\n",
       "     rating_denominator    name dog_stages  \\\n",
       "887                  10  Oliver        NaN   \n",
       "\n",
       "                                             jpg_url  img_num   p1_conf  \\\n",
       "887  https://pbs.twimg.com/media/Cc4gjxqW4AIoThO.jpg        1  0.541794   \n",
       "\n",
       "      p2_conf   p3_conf dog_breeds  favorite_count  retweet_count  \n",
       "887  0.094918  0.085439       chow            3778           1580  "
      ]
     },
     "execution_count": 178,
     "metadata": {},
     "output_type": "execute_result"
    }
   ],
   "source": [
    "df.sample()"
   ]
  },
  {
   "cell_type": "markdown",
   "id": "a1311033",
   "metadata": {},
   "source": [
    "#### 1) Most Preferable Dog Stage"
   ]
  },
  {
   "cell_type": "markdown",
   "id": "13d36108",
   "metadata": {},
   "source": [
    "#### Ans: pupper"
   ]
  },
  {
   "cell_type": "code",
   "execution_count": 179,
   "id": "6dac8479",
   "metadata": {},
   "outputs": [
    {
     "data": {
      "text/plain": [
       "pupper     172\n",
       "doggo       60\n",
       "puppo       27\n",
       "floofer      3\n",
       "Name: dog_stages, dtype: int64"
      ]
     },
     "execution_count": 179,
     "metadata": {},
     "output_type": "execute_result"
    }
   ],
   "source": [
    "df.dog_stages.value_counts()"
   ]
  },
  {
   "cell_type": "code",
   "execution_count": 180,
   "id": "97df03ee",
   "metadata": {},
   "outputs": [
    {
     "data": {
      "image/png": "[encoded data removed]",
      "text/plain": [
       "<Figure size 640x480 with 1 Axes>"
      ]
     },
     "metadata": {},
     "output_type": "display_data"
    }
   ],
   "source": [
    "sns.set_style(style = 'darkgrid')\n",
    "df.dog_stages.value_counts().plot(kind = 'barh');\n",
    "plt.title('Most Preferable Dog Type:');\n",
    "plt.ylabel('Dog Type');"
   ]
  },
  {
   "cell_type": "markdown",
   "id": "ef13271d",
   "metadata": {},
   "source": [
    "#### 2) Most Preffered Dog Breed "
   ]
  },
  {
   "cell_type": "markdown",
   "id": "d2add7ae",
   "metadata": {},
   "source": [
    "#### Ans: Golden Retriever\n",
    "- The difference between the preference of the highest (Golden Retriever) and the second highest(Labrodor retriever) preffered dog breed is quite large.\n",
    "- Chihuahua and Pembroke have almost equal preference. "
   ]
  },
  {
   "cell_type": "code",
   "execution_count": 181,
   "id": "8e73c826",
   "metadata": {},
   "outputs": [
    {
     "data": {
      "image/png": "[encoded data removed]",
      "text/plain": [
       "<Figure size 640x480 with 1 Axes>"
      ]
     },
     "metadata": {},
     "output_type": "display_data"
    }
   ],
   "source": [
    "df.dog_breeds.value_counts().sort_values().tail(10).plot(kind = 'barh');\n",
    "plt.title('Top 10 dog breeds');\n",
    "plt.ylabel('Dog Breeds');"
   ]
  },
  {
   "cell_type": "markdown",
   "id": "91d6558c",
   "metadata": {},
   "source": [
    "#### 3)Dog Stages according to favorite counts/retweet counts"
   ]
  },
  {
   "cell_type": "code",
   "execution_count": 182,
   "id": "b24392b1",
   "metadata": {},
   "outputs": [
    {
     "data": {
      "image/png": "[encoded data removed]",
      "text/plain": [
       "<Figure size 700x400 with 1 Axes>"
      ]
     },
     "metadata": {},
     "output_type": "display_data"
    }
   ],
   "source": [
    "#df.name.value_counts().sort_values().tail(30)[:-1].plot(kind='pie',figsize=(15,5),autopct='%1.0f%%');\n",
    "df.groupby('dog_stages')['favorite_count'].mean().plot(kind='bar',alpha=0.7,color='green',figsize=(7,4))\n",
    "plt.ylabel('favorite_count')\n",
    "plt.title('Dog Stages according to favorite counts')\n",
    "df.groupby('dog_stages')['favorite_count'].mean().plot(kind='line',color = 'grey',ls='--',alpha=0.5);"
   ]
  },
  {
   "cell_type": "code",
   "execution_count": 183,
   "id": "1ff8f60c",
   "metadata": {},
   "outputs": [
    {
     "name": "stdout",
     "output_type": "stream",
     "text": [
      "correlation between favorite_count and retweet_count:  0.9125573615613207\n"
     ]
    }
   ],
   "source": [
    "print(\"correlation between favorite_count and retweet_count: \",df['favorite_count'].corr(df['retweet_count']))"
   ]
  },
  {
   "cell_type": "markdown",
   "id": "2dbb3054",
   "metadata": {},
   "source": [
    "#### Ans: This tells us the according to favorite and retweet counts, `floofer` is the most preffered dog stage."
   ]
  },
  {
   "cell_type": "markdown",
   "id": "1cb4c1f5",
   "metadata": {},
   "source": [
    "#### 4) Trends from 2015 to 2017 as per the favorite counts"
   ]
  },
  {
   "cell_type": "code",
   "execution_count": 184,
   "id": "34798a35",
   "metadata": {},
   "outputs": [],
   "source": [
    "df.timestamp = df.timestamp.astype('datetime64[ns]')"
   ]
  },
  {
   "cell_type": "code",
   "execution_count": 185,
   "id": "dbfc169e",
   "metadata": {},
   "outputs": [
    {
     "data": {
      "text/plain": [
       "timestamp\n",
       "2015     2729.112051\n",
       "2016     7740.932598\n",
       "2017    24134.822785\n",
       "Name: favorite_count, dtype: float64"
      ]
     },
     "execution_count": 185,
     "metadata": {},
     "output_type": "execute_result"
    }
   ],
   "source": [
    "df.groupby(df.timestamp.dt.year)['favorite_count'].mean()"
   ]
  },
  {
   "cell_type": "code",
   "execution_count": 186,
   "id": "e4a0ba14",
   "metadata": {},
   "outputs": [
    {
     "data": {
      "image/png": "[encoded data removed]",
      "text/plain": [
       "<Figure size 2000x500 with 1 Axes>"
      ]
     },
     "metadata": {},
     "output_type": "display_data"
    }
   ],
   "source": [
    "df.groupby(df.timestamp.dt.year)['favorite_count'].mean().plot(kind='line',figsize=(20,5));\n",
    "plt.title('Trend from 2015 to 2017 (based on the year) as per the favorite counts');\n",
    "plt.xlabel('Year');"
   ]
  },
  {
   "cell_type": "code",
   "execution_count": 187,
   "id": "25f0d8a4",
   "metadata": {},
   "outputs": [
    {
     "data": {
      "image/png": "[encoded data removed]",
      "text/plain": [
       "<Figure size 2000x500 with 1 Axes>"
      ]
     },
     "metadata": {},
     "output_type": "display_data"
    }
   ],
   "source": [
    "df.groupby(df.timestamp.dt.month)['favorite_count'].mean().plot(kind='line',figsize=(20,5));\n",
    "plt.title('Trend from 2015 to 2017 (based on the month) as per the favorite counts');\n",
    "plt.xlabel('Month (1-12)');"
   ]
  },
  {
   "cell_type": "markdown",
   "id": "a9311c91",
   "metadata": {},
   "source": [
    "##### The month June had the highest number of favorite counts and the month November had the lowest number of favorite counts. Note that the months are irrespective of the years(\"1\" means January of 2015, 2016 and 2017)"
   ]
  },
  {
   "cell_type": "code",
   "execution_count": null,
   "id": "fef687a2",
   "metadata": {},
   "outputs": [],
   "source": []
  }
 ],
 "metadata": {
  "kernelspec": {
   "display_name": "Python 3 (ipykernel)",
   "language": "python",
   "name": "python3"
  },
  "language_info": {
   "codemirror_mode": {
    "name": "ipython",
    "version": 3
   },
   "file_extension": ".py",
   "mimetype": "text/x-python",
   "name": "python",
   "nbconvert_exporter": "python",
   "pygments_lexer": "ipython3",
   "version": "3.9.13"
  }
 },
 "nbformat": 4,
 "nbformat_minor": 5
}
